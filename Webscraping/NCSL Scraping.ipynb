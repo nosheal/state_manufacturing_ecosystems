{
 "cells": [
  {
   "cell_type": "code",
   "execution_count": null,
   "metadata": {},
   "outputs": [],
   "source": [
    "#install prereqs if necessary !pip install selenium "
   ]
  },
  {
   "cell_type": "markdown",
   "metadata": {},
   "source": [
    "# Setup"
   ]
  },
  {
   "cell_type": "code",
   "execution_count": 131,
   "metadata": {},
   "outputs": [],
   "source": [
    "#import packages\n",
    "\n",
    "from selenium import webdriver\n",
    "from selenium.webdriver.common.by import By\n",
    "from selenium.webdriver.common import keys\n",
    "import numpy as np\n",
    "import pandas as pd\n",
    "from selenium.webdriver import ActionChains\n",
    "from selenium.webdriver.common.keys import Keys\n",
    "from bs4 import BeautifulSoup\n",
    "import time\n",
    "\n"
   ]
  },
  {
   "cell_type": "markdown",
   "metadata": {},
   "source": [
    "We then create a driver, and point it at the NCSL database on state action in coronavirus relief funds."
   ]
  },
  {
   "cell_type": "code",
   "execution_count": 424,
   "metadata": {},
   "outputs": [],
   "source": [
    "driver = webdriver.Chrome()\n",
    "\n",
    "driver.get(\"https://app.powerbi.com/view?r=eyJrIjoiMTcyNGQ5ZmUtNTY3Mi00YjViLTgyNjMtZjk1NzVkYTUyZGUzIiwidCI6IjM4MmZiOGIwLTRkYzMtNDEwNy04MGJkLTM1OTViMjQzMmZhZSIsImMiOjZ9&pageName=ReportSection\")\n"
   ]
  },
  {
   "cell_type": "markdown",
   "metadata": {},
   "source": [
    "# Helper Functions"
   ]
  },
  {
   "cell_type": "markdown",
   "metadata": {},
   "source": [
    "We then define a series of functions to help us get the information from the table that we need. "
   ]
  },
  {
   "cell_type": "code",
   "execution_count": 612,
   "metadata": {},
   "outputs": [],
   "source": [
    "def get_rows(driver): \n",
    "    row_holder = driver.find_elements(By.XPATH, \"//div[@role='row']\")\n",
    "    return row_holder"
   ]
  },
  {
   "cell_type": "code",
   "execution_count": 805,
   "metadata": {},
   "outputs": [],
   "source": [
    "def get_text(rows): \n",
    "    results_text = [None] * len(rows)\n",
    "    for i in range(len(rows)): \n",
    "        results_text[i] = rows[i].text\n",
    "    return results_text"
   ]
  },
  {
   "cell_type": "code",
   "execution_count": 615,
   "metadata": {},
   "outputs": [],
   "source": [
    "def get_grid(driver): \n",
    "    grids = driver.find_elements(By.XPATH, \"//div[@role='grid']\")\n",
    "    return grids"
   ]
  },
  {
   "cell_type": "markdown",
   "metadata": {},
   "source": [
    "We can test this process to confirm that the results are roughly what we want. However, we see that for a single pass, we only obtain a slice of the data, rather than the complete database. "
   ]
  },
  {
   "cell_type": "code",
   "execution_count": 807,
   "metadata": {},
   "outputs": [
    {
     "data": {
      "text/plain": [
       "['Row Selection\\nCategory\\nState\\n Description\\nSource',\n",
       " 'Select Row\\nUnemployment/Workforce Development\\nWyoming\\n$25 million to replenish the unemployment insurance trust fund.\\nGovernor',\n",
       " 'Select Row\\nOther\\nWyoming\\n$275,000 for COVID-19 in state advertising.\\nState',\n",
       " 'Select Row\\nHealth\\nWyoming\\n$30 million for health testing and tracing.\\nState',\n",
       " 'Select Row\\nOther\\nWyoming\\n$30 million to the Wyoming Energy Rebound Program to give companies money needed to complete specific projects placed on hold because of the pandemic, including plugging and abandoning wells, and drilling uncompleted wells.\\nMedia',\n",
       " 'Select Row\\nEmergency Management/Disaster Response\\nWyoming\\n$5 million for OSHA compliance.\\nState',\n",
       " 'Select Row\\nOther\\nWyoming\\n$6,000 for a COVID-19 app.\\nState',\n",
       " 'Select Row\\nHigher Education\\nWyoming\\nApproximately $26.5 million to the University of Wyoming for technology equipment, purchasing personal protective equipment, teaching support, and testing.\\nState',\n",
       " 'Select Row\\nCorrections/Courts/Judiciary\\nWyoming\\nApproximately $271,000 for corrections facility.\\nState',\n",
       " 'Select Row\\nLocal Government\\nWyoming\\nGrants to local governments.\\nState']"
      ]
     },
     "execution_count": 807,
     "metadata": {},
     "output_type": "execute_result"
    }
   ],
   "source": [
    "get_text(get_rows(driver))"
   ]
  },
  {
   "cell_type": "code",
   "execution_count": 806,
   "metadata": {},
   "outputs": [
    {
     "data": {
      "text/plain": [
       "['Row Selection\\nCategory\\nState\\n Description\\nSource',\n",
       " 'Select Row\\nUnemployment/Workforce Development\\nWyoming\\n$25 million to replenish the unemployment insurance trust fund.\\nGovernor',\n",
       " 'Select Row\\nOther\\nWyoming\\n$275,000 for COVID-19 in state advertising.\\nState',\n",
       " 'Select Row\\nHealth\\nWyoming\\n$30 million for health testing and tracing.\\nState',\n",
       " 'Select Row\\nOther\\nWyoming\\n$30 million to the Wyoming Energy Rebound Program to give companies money needed to complete specific projects placed on hold because of the pandemic, including plugging and abandoning wells, and drilling uncompleted wells.\\nMedia',\n",
       " 'Select Row\\nEmergency Management/Disaster Response\\nWyoming\\n$5 million for OSHA compliance.\\nState',\n",
       " 'Select Row\\nOther\\nWyoming\\n$6,000 for a COVID-19 app.\\nState',\n",
       " 'Select Row\\nHigher Education\\nWyoming\\nApproximately $26.5 million to the University of Wyoming for technology equipment, purchasing personal protective equipment, teaching support, and testing.\\nState',\n",
       " 'Select Row\\nCorrections/Courts/Judiciary\\nWyoming\\nApproximately $271,000 for corrections facility.\\nState',\n",
       " 'Select Row\\nLocal Government\\nWyoming\\nGrants to local governments.\\nState']"
      ]
     },
     "execution_count": 806,
     "metadata": {},
     "output_type": "execute_result"
    }
   ],
   "source": [
    "results = np.append(results, get_text(get_rows(driver)))\n"
   ]
  },
  {
   "cell_type": "markdown",
   "metadata": {},
   "source": [
    "As such what we need to do is scroll through the entire database, and continuously take slices and update our data. We create a series of functions to help us accomplish this.  "
   ]
  },
  {
   "cell_type": "code",
   "execution_count": 803,
   "metadata": {},
   "outputs": [],
   "source": [
    "def get_rowcount(element):\n",
    "    row_count = element[1].get_attribute(\"aria-rowindex\")\n",
    "    return row_count"
   ]
  },
  {
   "cell_type": "code",
   "execution_count": 567,
   "metadata": {},
   "outputs": [],
   "source": [
    "def last_row(element):\n",
    "    last_row = element[-1].get_attribute(\"aria-rowindex\")\n",
    "    return last_row"
   ]
  },
  {
   "cell_type": "code",
   "execution_count": 698,
   "metadata": {},
   "outputs": [],
   "source": [
    "def move_cursor(driver): \n",
    "    data = driver.find_elements(By.XPATH, \"//div[@role='gridcell']\")\n",
    "    data[-2].send_keys(Keys.DOWN)"
   ]
  },
  {
   "cell_type": "markdown",
   "metadata": {},
   "source": [
    "We can test these functions to make sure that as we move the cursor our data indeed changes. "
   ]
  },
  {
   "cell_type": "code",
   "execution_count": 712,
   "metadata": {},
   "outputs": [],
   "source": [
    "test_x = get_rows(driver)"
   ]
  },
  {
   "cell_type": "code",
   "execution_count": 713,
   "metadata": {},
   "outputs": [
    {
     "data": {
      "text/plain": [
       "'24'"
      ]
     },
     "execution_count": 713,
     "metadata": {},
     "output_type": "execute_result"
    }
   ],
   "source": [
    "get_rowcount(test_x)"
   ]
  },
  {
   "cell_type": "code",
   "execution_count": 714,
   "metadata": {},
   "outputs": [
    {
     "data": {
      "text/plain": [
       "'43'"
      ]
     },
     "execution_count": 714,
     "metadata": {},
     "output_type": "execute_result"
    }
   ],
   "source": [
    "last_row(test_x)"
   ]
  },
  {
   "cell_type": "code",
   "execution_count": 707,
   "metadata": {},
   "outputs": [],
   "source": [
    "move_cursor(driver)"
   ]
  },
  {
   "cell_type": "markdown",
   "metadata": {},
   "source": [
    "# Scrape Data"
   ]
  },
  {
   "cell_type": "markdown",
   "metadata": {},
   "source": [
    "We can then run a script to scroll through the database and scrape what we want. We also store the row numbers that we get, to make sure that we have all the rows we need. We manually identify that there are 1333 entries. While running this script, it is best to have the header window selected (unless disabled earlier) Note: this is not the most efficient script possible, as we are still obtaining duplicates through this process. However, we can simply remove these duplicates later. "
   ]
  },
  {
   "cell_type": "code",
   "execution_count": 844,
   "metadata": {},
   "outputs": [],
   "source": [
    "results = np.empty(0, dtype=str)\n",
    "row_store = np.empty(0, dtype=str)\n",
    "\n",
    "while (int(last_row(get_rows(driver))) < 1335): \n",
    "    \n",
    "    results_text = get_text(get_rows(driver))\n",
    "\n",
    "    results = np.append(results, results_text)\n",
    "    \n",
    "    for i in get_rows(driver): \n",
    "        row_store = np.append(row_store, i.get_attribute(\"aria-rowindex\"))\n",
    "    \n",
    "    move_cursor(driver)\n",
    "    time.sleep(5)"
   ]
  },
  {
   "cell_type": "code",
   "execution_count": 813,
   "metadata": {},
   "outputs": [
    {
     "data": {
      "text/plain": [
       "array(['1', '2', '3', ..., '1322', '1323', '1324'], dtype='<U4')"
      ]
     },
     "execution_count": 813,
     "metadata": {},
     "output_type": "execute_result"
    }
   ],
   "source": [
    "row_store"
   ]
  },
  {
   "cell_type": "markdown",
   "metadata": {},
   "source": [
    "We see that we don't have all the data that we need, so we need to perform one last pass at the bottom of the data. "
   ]
  },
  {
   "cell_type": "code",
   "execution_count": 814,
   "metadata": {},
   "outputs": [],
   "source": [
    "last_10 = get_rows(driver)"
   ]
  },
  {
   "cell_type": "code",
   "execution_count": 815,
   "metadata": {},
   "outputs": [
    {
     "data": {
      "text/plain": [
       "'1335'"
      ]
     },
     "execution_count": 815,
     "metadata": {},
     "output_type": "execute_result"
    }
   ],
   "source": [
    "last_row(last_10)"
   ]
  },
  {
   "cell_type": "code",
   "execution_count": 816,
   "metadata": {},
   "outputs": [],
   "source": [
    "results = np.append(results, get_text(last_10))"
   ]
  },
  {
   "cell_type": "code",
   "execution_count": 817,
   "metadata": {},
   "outputs": [],
   "source": [
    "for i in last_10: \n",
    "    row_store = np.append(row_store, i.get_attribute(\"aria-rowindex\"))"
   ]
  },
  {
   "cell_type": "markdown",
   "metadata": {},
   "source": [
    "# Clean and Export"
   ]
  },
  {
   "cell_type": "markdown",
   "metadata": {},
   "source": [
    "We now need to clean some of this data by removing duplicates, and splitting the list into columns, turning it into a dataframe, and exporting that data. NOTE: We save detailed cleaning of these data for later. "
   ]
  },
  {
   "cell_type": "code",
   "execution_count": 830,
   "metadata": {},
   "outputs": [],
   "source": [
    "results_tests = results[1:100]\n"
   ]
  },
  {
   "cell_type": "code",
   "execution_count": 835,
   "metadata": {},
   "outputs": [
    {
     "data": {
      "text/plain": [
       "71"
      ]
     },
     "execution_count": 835,
     "metadata": {},
     "output_type": "execute_result"
    }
   ],
   "source": [
    "len(np.unique(results_tests))"
   ]
  },
  {
   "cell_type": "code",
   "execution_count": 838,
   "metadata": {},
   "outputs": [],
   "source": [
    "results_unique = np.unique(results)"
   ]
  },
  {
   "cell_type": "code",
   "execution_count": 839,
   "metadata": {},
   "outputs": [
    {
     "data": {
      "text/plain": [
       "1333"
      ]
     },
     "execution_count": 839,
     "metadata": {},
     "output_type": "execute_result"
    }
   ],
   "source": [
    "len(results_unique)"
   ]
  },
  {
   "cell_type": "code",
   "execution_count": 840,
   "metadata": {},
   "outputs": [],
   "source": [
    "df = pd.DataFrame([x.split('\\n') for x in results_unique])"
   ]
  },
  {
   "cell_type": "code",
   "execution_count": 842,
   "metadata": {},
   "outputs": [
    {
     "data": {
      "text/html": [
       "<div>\n",
       "<style scoped>\n",
       "    .dataframe tbody tr th:only-of-type {\n",
       "        vertical-align: middle;\n",
       "    }\n",
       "\n",
       "    .dataframe tbody tr th {\n",
       "        vertical-align: top;\n",
       "    }\n",
       "\n",
       "    .dataframe thead th {\n",
       "        text-align: right;\n",
       "    }\n",
       "</style>\n",
       "<table border=\"1\" class=\"dataframe\">\n",
       "  <thead>\n",
       "    <tr style=\"text-align: right;\">\n",
       "      <th></th>\n",
       "      <th>0</th>\n",
       "      <th>1</th>\n",
       "      <th>2</th>\n",
       "      <th>3</th>\n",
       "      <th>4</th>\n",
       "      <th>5</th>\n",
       "      <th>6</th>\n",
       "    </tr>\n",
       "  </thead>\n",
       "  <tbody>\n",
       "    <tr>\n",
       "      <td>0</td>\n",
       "      <td>Row Selection</td>\n",
       "      <td>Category</td>\n",
       "      <td>State</td>\n",
       "      <td>Description</td>\n",
       "      <td>Source</td>\n",
       "      <td>None</td>\n",
       "      <td>None</td>\n",
       "    </tr>\n",
       "    <tr>\n",
       "      <td>1</td>\n",
       "      <td>Select Row</td>\n",
       "      <td>Community/Human Services</td>\n",
       "      <td>Alabama</td>\n",
       "      <td>$13.3 million to faith-based organizations.</td>\n",
       "      <td>State</td>\n",
       "      <td>None</td>\n",
       "      <td>None</td>\n",
       "    </tr>\n",
       "    <tr>\n",
       "      <td>2</td>\n",
       "      <td>Select Row</td>\n",
       "      <td>Community/Human Services</td>\n",
       "      <td>Alabama</td>\n",
       "      <td>$18.4 million to non-profits.</td>\n",
       "      <td>State</td>\n",
       "      <td>None</td>\n",
       "      <td>None</td>\n",
       "    </tr>\n",
       "    <tr>\n",
       "      <td>3</td>\n",
       "      <td>Select Row</td>\n",
       "      <td>Community/Human Services</td>\n",
       "      <td>Alabama</td>\n",
       "      <td>$3.6 million for the Alabama Food Banks Program.</td>\n",
       "      <td>State</td>\n",
       "      <td>None</td>\n",
       "      <td>None</td>\n",
       "    </tr>\n",
       "    <tr>\n",
       "      <td>4</td>\n",
       "      <td>Select Row</td>\n",
       "      <td>Community/Human Services</td>\n",
       "      <td>Alabama</td>\n",
       "      <td>$757,000 for the Alabama AHEC Program.</td>\n",
       "      <td>State</td>\n",
       "      <td>None</td>\n",
       "      <td>None</td>\n",
       "    </tr>\n",
       "  </tbody>\n",
       "</table>\n",
       "</div>"
      ],
      "text/plain": [
       "               0                         1        2  \\\n",
       "0  Row Selection                  Category    State   \n",
       "1     Select Row  Community/Human Services  Alabama   \n",
       "2     Select Row  Community/Human Services  Alabama   \n",
       "3     Select Row  Community/Human Services  Alabama   \n",
       "4     Select Row  Community/Human Services  Alabama   \n",
       "\n",
       "                                                  3       4     5     6  \n",
       "0                                       Description  Source  None  None  \n",
       "1       $13.3 million to faith-based organizations.   State  None  None  \n",
       "2                     $18.4 million to non-profits.   State  None  None  \n",
       "3  $3.6 million for the Alabama Food Banks Program.   State  None  None  \n",
       "4            $757,000 for the Alabama AHEC Program.   State  None  None  "
      ]
     },
     "execution_count": 842,
     "metadata": {},
     "output_type": "execute_result"
    }
   ],
   "source": [
    "df.head()"
   ]
  },
  {
   "cell_type": "code",
   "execution_count": 843,
   "metadata": {},
   "outputs": [],
   "source": [
    "df.to_csv('ncsl.csv')"
   ]
  },
  {
   "cell_type": "markdown",
   "metadata": {},
   "source": [
    "# SCRATCH WORK"
   ]
  },
  {
   "cell_type": "markdown",
   "metadata": {},
   "source": [
    "The rest of this document contains old, failed, testing code. "
   ]
  },
  {
   "cell_type": "code",
   "execution_count": 752,
   "metadata": {},
   "outputs": [],
   "source": [
    "results_list = list(results)"
   ]
  },
  {
   "cell_type": "code",
   "execution_count": 756,
   "metadata": {},
   "outputs": [],
   "source": [
    "test = get_rows(driver)\n"
   ]
  },
  {
   "cell_type": "code",
   "execution_count": 757,
   "metadata": {},
   "outputs": [
    {
     "data": {
      "text/plain": [
       "'Select Row\\nUnemployment/Workforce Development\\nWyoming\\n$25 million to replenish the unemployment insurance trust fund.\\nGovernor'"
      ]
     },
     "execution_count": 757,
     "metadata": {},
     "output_type": "execute_result"
    }
   ],
   "source": [
    "test[1].text"
   ]
  },
  {
   "cell_type": "code",
   "execution_count": 763,
   "metadata": {},
   "outputs": [
    {
     "data": {
      "text/plain": [
       "'Select Row\\nLocal Government\\nWyoming\\nGrants to local governments.\\nState'"
      ]
     },
     "execution_count": 763,
     "metadata": {},
     "output_type": "execute_result"
    }
   ],
   "source": [
    "test_array = np.array(test)\n",
    "test_array[-1].text"
   ]
  },
  {
   "cell_type": "code",
   "execution_count": 765,
   "metadata": {},
   "outputs": [
    {
     "ename": "WebDriverException",
     "evalue": "Message: unknown error: unhandled inspector error: {\"code\":-32000,\"message\":\"No node with given id found\"}\n  (Session info: chrome=113.0.5672.126)\nStacktrace:\n0   chromedriver                        0x0000000100f3b8ac chromedriver + 4257964\n1   chromedriver                        0x0000000100f33f40 chromedriver + 4226880\n2   chromedriver                        0x0000000100b709d4 chromedriver + 281044\n3   chromedriver                        0x0000000100b5b0b8 chromedriver + 192696\n4   chromedriver                        0x0000000100b5934c chromedriver + 185164\n5   chromedriver                        0x0000000100b59620 chromedriver + 185888\n6   chromedriver                        0x0000000100b7df6c chromedriver + 335724\n7   chromedriver                        0x0000000100b755c8 chromedriver + 300488\n8   chromedriver                        0x0000000100b7410c chromedriver + 295180\n9   chromedriver                        0x0000000100b76b34 chromedriver + 305972\n10  chromedriver                        0x0000000100b76c24 chromedriver + 306212\n11  chromedriver                        0x0000000100ba60ec chromedriver + 499948\n12  chromedriver                        0x0000000100ba11cc chromedriver + 479692\n13  chromedriver                        0x0000000100be27e4 chromedriver + 747492\n14  chromedriver                        0x0000000100b9f98c chromedriver + 473484\n15  chromedriver                        0x0000000100ba098c chromedriver + 477580\n16  chromedriver                        0x0000000100efa900 chromedriver + 3991808\n17  chromedriver                        0x0000000100efe354 chromedriver + 4006740\n18  chromedriver                        0x0000000100efe940 chromedriver + 4008256\n19  chromedriver                        0x0000000100f0433c chromedriver + 4031292\n20  chromedriver                        0x0000000100efef34 chromedriver + 4009780\n21  chromedriver                        0x0000000100ed7490 chromedriver + 3847312\n22  chromedriver                        0x0000000100f1c9f4 chromedriver + 4131316\n23  chromedriver                        0x0000000100f1cb4c chromedriver + 4131660\n24  chromedriver                        0x0000000100f2d230 chromedriver + 4198960\n25  libsystem_pthread.dylib             0x00000001a8a6606c _pthread_start + 148\n26  libsystem_pthread.dylib             0x00000001a8a60e2c thread_start + 8\n",
     "output_type": "error",
     "traceback": [
      "\u001b[0;31m---------------------------------------------------------------------------\u001b[0m",
      "\u001b[0;31mWebDriverException\u001b[0m                        Traceback (most recent call last)",
      "\u001b[0;32m<ipython-input-765-057a7f652db5>\u001b[0m in \u001b[0;36m<module>\u001b[0;34m\u001b[0m\n\u001b[0;32m----> 1\u001b[0;31m \u001b[0mresults\u001b[0m\u001b[0;34m[\u001b[0m\u001b[0;36m500\u001b[0m\u001b[0;34m]\u001b[0m\u001b[0;34m.\u001b[0m\u001b[0mtext\u001b[0m\u001b[0;34m\u001b[0m\u001b[0;34m\u001b[0m\u001b[0m\n\u001b[0m",
      "\u001b[0;32m/opt/anaconda3/lib/python3.7/site-packages/selenium/webdriver/remote/webelement.py\u001b[0m in \u001b[0;36mtext\u001b[0;34m(self)\u001b[0m\n\u001b[1;32m     88\u001b[0m     \u001b[0;32mdef\u001b[0m \u001b[0mtext\u001b[0m\u001b[0;34m(\u001b[0m\u001b[0mself\u001b[0m\u001b[0;34m)\u001b[0m \u001b[0;34m->\u001b[0m \u001b[0mstr\u001b[0m\u001b[0;34m:\u001b[0m\u001b[0;34m\u001b[0m\u001b[0;34m\u001b[0m\u001b[0m\n\u001b[1;32m     89\u001b[0m         \u001b[0;34m\"\"\"The text of the element.\"\"\"\u001b[0m\u001b[0;34m\u001b[0m\u001b[0;34m\u001b[0m\u001b[0m\n\u001b[0;32m---> 90\u001b[0;31m         \u001b[0;32mreturn\u001b[0m \u001b[0mself\u001b[0m\u001b[0;34m.\u001b[0m\u001b[0m_execute\u001b[0m\u001b[0;34m(\u001b[0m\u001b[0mCommand\u001b[0m\u001b[0;34m.\u001b[0m\u001b[0mGET_ELEMENT_TEXT\u001b[0m\u001b[0;34m)\u001b[0m\u001b[0;34m[\u001b[0m\u001b[0;34m\"value\"\u001b[0m\u001b[0;34m]\u001b[0m\u001b[0;34m\u001b[0m\u001b[0;34m\u001b[0m\u001b[0m\n\u001b[0m\u001b[1;32m     91\u001b[0m \u001b[0;34m\u001b[0m\u001b[0m\n\u001b[1;32m     92\u001b[0m     \u001b[0;32mdef\u001b[0m \u001b[0mclick\u001b[0m\u001b[0;34m(\u001b[0m\u001b[0mself\u001b[0m\u001b[0;34m)\u001b[0m \u001b[0;34m->\u001b[0m \u001b[0;32mNone\u001b[0m\u001b[0;34m:\u001b[0m\u001b[0;34m\u001b[0m\u001b[0;34m\u001b[0m\u001b[0m\n",
      "\u001b[0;32m/opt/anaconda3/lib/python3.7/site-packages/selenium/webdriver/remote/webelement.py\u001b[0m in \u001b[0;36m_execute\u001b[0;34m(self, command, params)\u001b[0m\n\u001b[1;32m    401\u001b[0m             \u001b[0mparams\u001b[0m \u001b[0;34m=\u001b[0m \u001b[0;34m{\u001b[0m\u001b[0;34m}\u001b[0m\u001b[0;34m\u001b[0m\u001b[0;34m\u001b[0m\u001b[0m\n\u001b[1;32m    402\u001b[0m         \u001b[0mparams\u001b[0m\u001b[0;34m[\u001b[0m\u001b[0;34m\"id\"\u001b[0m\u001b[0;34m]\u001b[0m \u001b[0;34m=\u001b[0m \u001b[0mself\u001b[0m\u001b[0;34m.\u001b[0m\u001b[0m_id\u001b[0m\u001b[0;34m\u001b[0m\u001b[0;34m\u001b[0m\u001b[0m\n\u001b[0;32m--> 403\u001b[0;31m         \u001b[0;32mreturn\u001b[0m \u001b[0mself\u001b[0m\u001b[0;34m.\u001b[0m\u001b[0m_parent\u001b[0m\u001b[0;34m.\u001b[0m\u001b[0mexecute\u001b[0m\u001b[0;34m(\u001b[0m\u001b[0mcommand\u001b[0m\u001b[0;34m,\u001b[0m \u001b[0mparams\u001b[0m\u001b[0;34m)\u001b[0m\u001b[0;34m\u001b[0m\u001b[0;34m\u001b[0m\u001b[0m\n\u001b[0m\u001b[1;32m    404\u001b[0m \u001b[0;34m\u001b[0m\u001b[0m\n\u001b[1;32m    405\u001b[0m     \u001b[0;32mdef\u001b[0m \u001b[0mfind_element\u001b[0m\u001b[0;34m(\u001b[0m\u001b[0mself\u001b[0m\u001b[0;34m,\u001b[0m \u001b[0mby\u001b[0m\u001b[0;34m=\u001b[0m\u001b[0mBy\u001b[0m\u001b[0;34m.\u001b[0m\u001b[0mID\u001b[0m\u001b[0;34m,\u001b[0m \u001b[0mvalue\u001b[0m\u001b[0;34m=\u001b[0m\u001b[0;32mNone\u001b[0m\u001b[0;34m)\u001b[0m \u001b[0;34m->\u001b[0m \u001b[0mWebElement\u001b[0m\u001b[0;34m:\u001b[0m\u001b[0;34m\u001b[0m\u001b[0;34m\u001b[0m\u001b[0m\n",
      "\u001b[0;32m/opt/anaconda3/lib/python3.7/site-packages/selenium/webdriver/remote/webdriver.py\u001b[0m in \u001b[0;36mexecute\u001b[0;34m(self, driver_command, params)\u001b[0m\n\u001b[1;32m    438\u001b[0m         \u001b[0mresponse\u001b[0m \u001b[0;34m=\u001b[0m \u001b[0mself\u001b[0m\u001b[0;34m.\u001b[0m\u001b[0mcommand_executor\u001b[0m\u001b[0;34m.\u001b[0m\u001b[0mexecute\u001b[0m\u001b[0;34m(\u001b[0m\u001b[0mdriver_command\u001b[0m\u001b[0;34m,\u001b[0m \u001b[0mparams\u001b[0m\u001b[0;34m)\u001b[0m\u001b[0;34m\u001b[0m\u001b[0;34m\u001b[0m\u001b[0m\n\u001b[1;32m    439\u001b[0m         \u001b[0;32mif\u001b[0m \u001b[0mresponse\u001b[0m\u001b[0;34m:\u001b[0m\u001b[0;34m\u001b[0m\u001b[0;34m\u001b[0m\u001b[0m\n\u001b[0;32m--> 440\u001b[0;31m             \u001b[0mself\u001b[0m\u001b[0;34m.\u001b[0m\u001b[0merror_handler\u001b[0m\u001b[0;34m.\u001b[0m\u001b[0mcheck_response\u001b[0m\u001b[0;34m(\u001b[0m\u001b[0mresponse\u001b[0m\u001b[0;34m)\u001b[0m\u001b[0;34m\u001b[0m\u001b[0;34m\u001b[0m\u001b[0m\n\u001b[0m\u001b[1;32m    441\u001b[0m             \u001b[0mresponse\u001b[0m\u001b[0;34m[\u001b[0m\u001b[0;34m\"value\"\u001b[0m\u001b[0;34m]\u001b[0m \u001b[0;34m=\u001b[0m \u001b[0mself\u001b[0m\u001b[0;34m.\u001b[0m\u001b[0m_unwrap_value\u001b[0m\u001b[0;34m(\u001b[0m\u001b[0mresponse\u001b[0m\u001b[0;34m.\u001b[0m\u001b[0mget\u001b[0m\u001b[0;34m(\u001b[0m\u001b[0;34m\"value\"\u001b[0m\u001b[0;34m,\u001b[0m \u001b[0;32mNone\u001b[0m\u001b[0;34m)\u001b[0m\u001b[0;34m)\u001b[0m\u001b[0;34m\u001b[0m\u001b[0;34m\u001b[0m\u001b[0m\n\u001b[1;32m    442\u001b[0m             \u001b[0;32mreturn\u001b[0m \u001b[0mresponse\u001b[0m\u001b[0;34m\u001b[0m\u001b[0;34m\u001b[0m\u001b[0m\n",
      "\u001b[0;32m/opt/anaconda3/lib/python3.7/site-packages/selenium/webdriver/remote/errorhandler.py\u001b[0m in \u001b[0;36mcheck_response\u001b[0;34m(self, response)\u001b[0m\n\u001b[1;32m    243\u001b[0m                 \u001b[0malert_text\u001b[0m \u001b[0;34m=\u001b[0m \u001b[0mvalue\u001b[0m\u001b[0;34m[\u001b[0m\u001b[0;34m\"alert\"\u001b[0m\u001b[0;34m]\u001b[0m\u001b[0;34m.\u001b[0m\u001b[0mget\u001b[0m\u001b[0;34m(\u001b[0m\u001b[0;34m\"text\"\u001b[0m\u001b[0;34m)\u001b[0m\u001b[0;34m\u001b[0m\u001b[0;34m\u001b[0m\u001b[0m\n\u001b[1;32m    244\u001b[0m             \u001b[0;32mraise\u001b[0m \u001b[0mexception_class\u001b[0m\u001b[0;34m(\u001b[0m\u001b[0mmessage\u001b[0m\u001b[0;34m,\u001b[0m \u001b[0mscreen\u001b[0m\u001b[0;34m,\u001b[0m \u001b[0mstacktrace\u001b[0m\u001b[0;34m,\u001b[0m \u001b[0malert_text\u001b[0m\u001b[0;34m)\u001b[0m  \u001b[0;31m# type: ignore[call-arg]  # mypy is not smart enough here\u001b[0m\u001b[0;34m\u001b[0m\u001b[0;34m\u001b[0m\u001b[0m\n\u001b[0;32m--> 245\u001b[0;31m         \u001b[0;32mraise\u001b[0m \u001b[0mexception_class\u001b[0m\u001b[0;34m(\u001b[0m\u001b[0mmessage\u001b[0m\u001b[0;34m,\u001b[0m \u001b[0mscreen\u001b[0m\u001b[0;34m,\u001b[0m \u001b[0mstacktrace\u001b[0m\u001b[0;34m)\u001b[0m\u001b[0;34m\u001b[0m\u001b[0;34m\u001b[0m\u001b[0m\n\u001b[0m",
      "\u001b[0;31mWebDriverException\u001b[0m: Message: unknown error: unhandled inspector error: {\"code\":-32000,\"message\":\"No node with given id found\"}\n  (Session info: chrome=113.0.5672.126)\nStacktrace:\n0   chromedriver                        0x0000000100f3b8ac chromedriver + 4257964\n1   chromedriver                        0x0000000100f33f40 chromedriver + 4226880\n2   chromedriver                        0x0000000100b709d4 chromedriver + 281044\n3   chromedriver                        0x0000000100b5b0b8 chromedriver + 192696\n4   chromedriver                        0x0000000100b5934c chromedriver + 185164\n5   chromedriver                        0x0000000100b59620 chromedriver + 185888\n6   chromedriver                        0x0000000100b7df6c chromedriver + 335724\n7   chromedriver                        0x0000000100b755c8 chromedriver + 300488\n8   chromedriver                        0x0000000100b7410c chromedriver + 295180\n9   chromedriver                        0x0000000100b76b34 chromedriver + 305972\n10  chromedriver                        0x0000000100b76c24 chromedriver + 306212\n11  chromedriver                        0x0000000100ba60ec chromedriver + 499948\n12  chromedriver                        0x0000000100ba11cc chromedriver + 479692\n13  chromedriver                        0x0000000100be27e4 chromedriver + 747492\n14  chromedriver                        0x0000000100b9f98c chromedriver + 473484\n15  chromedriver                        0x0000000100ba098c chromedriver + 477580\n16  chromedriver                        0x0000000100efa900 chromedriver + 3991808\n17  chromedriver                        0x0000000100efe354 chromedriver + 4006740\n18  chromedriver                        0x0000000100efe940 chromedriver + 4008256\n19  chromedriver                        0x0000000100f0433c chromedriver + 4031292\n20  chromedriver                        0x0000000100efef34 chromedriver + 4009780\n21  chromedriver                        0x0000000100ed7490 chromedriver + 3847312\n22  chromedriver                        0x0000000100f1c9f4 chromedriver + 4131316\n23  chromedriver                        0x0000000100f1cb4c chromedriver + 4131660\n24  chromedriver                        0x0000000100f2d230 chromedriver + 4198960\n25  libsystem_pthread.dylib             0x00000001a8a6606c _pthread_start + 148\n26  libsystem_pthread.dylib             0x00000001a8a60e2c thread_start + 8\n"
     ]
    }
   ],
   "source": [
    "results[500].text"
   ]
  },
  {
   "cell_type": "code",
   "execution_count": null,
   "metadata": {},
   "outputs": [],
   "source": []
  },
  {
   "cell_type": "code",
   "execution_count": 737,
   "metadata": {},
   "outputs": [
    {
     "data": {
      "text/plain": [
       "array(['1', '2', '3', ..., '1333', '1334', '1335'], dtype='<U4')"
      ]
     },
     "execution_count": 737,
     "metadata": {},
     "output_type": "execute_result"
    }
   ],
   "source": [
    "row_store"
   ]
  },
  {
   "cell_type": "code",
   "execution_count": 749,
   "metadata": {},
   "outputs": [
    {
     "ename": "WebDriverException",
     "evalue": "Message: unknown error: unhandled inspector error: {\"code\":-32000,\"message\":\"No node with given id found\"}\n  (Session info: chrome=113.0.5672.126)\nStacktrace:\n0   chromedriver                        0x0000000100f3b8ac chromedriver + 4257964\n1   chromedriver                        0x0000000100f33f40 chromedriver + 4226880\n2   chromedriver                        0x0000000100b709d4 chromedriver + 281044\n3   chromedriver                        0x0000000100b5b0b8 chromedriver + 192696\n4   chromedriver                        0x0000000100b5934c chromedriver + 185164\n5   chromedriver                        0x0000000100b59620 chromedriver + 185888\n6   chromedriver                        0x0000000100b7df6c chromedriver + 335724\n7   chromedriver                        0x0000000100b755c8 chromedriver + 300488\n8   chromedriver                        0x0000000100b7410c chromedriver + 295180\n9   chromedriver                        0x0000000100b76b34 chromedriver + 305972\n10  chromedriver                        0x0000000100b76c24 chromedriver + 306212\n11  chromedriver                        0x0000000100ba60ec chromedriver + 499948\n12  chromedriver                        0x0000000100ba11cc chromedriver + 479692\n13  chromedriver                        0x0000000100be27e4 chromedriver + 747492\n14  chromedriver                        0x0000000100b9f98c chromedriver + 473484\n15  chromedriver                        0x0000000100ba098c chromedriver + 477580\n16  chromedriver                        0x0000000100efa900 chromedriver + 3991808\n17  chromedriver                        0x0000000100efe354 chromedriver + 4006740\n18  chromedriver                        0x0000000100efe940 chromedriver + 4008256\n19  chromedriver                        0x0000000100f0433c chromedriver + 4031292\n20  chromedriver                        0x0000000100efef34 chromedriver + 4009780\n21  chromedriver                        0x0000000100ed7490 chromedriver + 3847312\n22  chromedriver                        0x0000000100f1c9f4 chromedriver + 4131316\n23  chromedriver                        0x0000000100f1cb4c chromedriver + 4131660\n24  chromedriver                        0x0000000100f2d230 chromedriver + 4198960\n25  libsystem_pthread.dylib             0x00000001a8a6606c _pthread_start + 148\n26  libsystem_pthread.dylib             0x00000001a8a60e2c thread_start + 8\n",
     "output_type": "error",
     "traceback": [
      "\u001b[0;31m---------------------------------------------------------------------------\u001b[0m",
      "\u001b[0;31mWebDriverException\u001b[0m                        Traceback (most recent call last)",
      "\u001b[0;32m<ipython-input-749-6323e3b21ff9>\u001b[0m in \u001b[0;36m<module>\u001b[0;34m\u001b[0m\n\u001b[0;32m----> 1\u001b[0;31m \u001b[0mresults\u001b[0m\u001b[0;34m[\u001b[0m\u001b[0;36m1\u001b[0m\u001b[0;34m]\u001b[0m\u001b[0;34m.\u001b[0m\u001b[0mtext\u001b[0m\u001b[0;34m\u001b[0m\u001b[0;34m\u001b[0m\u001b[0m\n\u001b[0m",
      "\u001b[0;32m/opt/anaconda3/lib/python3.7/site-packages/selenium/webdriver/remote/webelement.py\u001b[0m in \u001b[0;36mtext\u001b[0;34m(self)\u001b[0m\n\u001b[1;32m     88\u001b[0m     \u001b[0;32mdef\u001b[0m \u001b[0mtext\u001b[0m\u001b[0;34m(\u001b[0m\u001b[0mself\u001b[0m\u001b[0;34m)\u001b[0m \u001b[0;34m->\u001b[0m \u001b[0mstr\u001b[0m\u001b[0;34m:\u001b[0m\u001b[0;34m\u001b[0m\u001b[0;34m\u001b[0m\u001b[0m\n\u001b[1;32m     89\u001b[0m         \u001b[0;34m\"\"\"The text of the element.\"\"\"\u001b[0m\u001b[0;34m\u001b[0m\u001b[0;34m\u001b[0m\u001b[0m\n\u001b[0;32m---> 90\u001b[0;31m         \u001b[0;32mreturn\u001b[0m \u001b[0mself\u001b[0m\u001b[0;34m.\u001b[0m\u001b[0m_execute\u001b[0m\u001b[0;34m(\u001b[0m\u001b[0mCommand\u001b[0m\u001b[0;34m.\u001b[0m\u001b[0mGET_ELEMENT_TEXT\u001b[0m\u001b[0;34m)\u001b[0m\u001b[0;34m[\u001b[0m\u001b[0;34m\"value\"\u001b[0m\u001b[0;34m]\u001b[0m\u001b[0;34m\u001b[0m\u001b[0;34m\u001b[0m\u001b[0m\n\u001b[0m\u001b[1;32m     91\u001b[0m \u001b[0;34m\u001b[0m\u001b[0m\n\u001b[1;32m     92\u001b[0m     \u001b[0;32mdef\u001b[0m \u001b[0mclick\u001b[0m\u001b[0;34m(\u001b[0m\u001b[0mself\u001b[0m\u001b[0;34m)\u001b[0m \u001b[0;34m->\u001b[0m \u001b[0;32mNone\u001b[0m\u001b[0;34m:\u001b[0m\u001b[0;34m\u001b[0m\u001b[0;34m\u001b[0m\u001b[0m\n",
      "\u001b[0;32m/opt/anaconda3/lib/python3.7/site-packages/selenium/webdriver/remote/webelement.py\u001b[0m in \u001b[0;36m_execute\u001b[0;34m(self, command, params)\u001b[0m\n\u001b[1;32m    401\u001b[0m             \u001b[0mparams\u001b[0m \u001b[0;34m=\u001b[0m \u001b[0;34m{\u001b[0m\u001b[0;34m}\u001b[0m\u001b[0;34m\u001b[0m\u001b[0;34m\u001b[0m\u001b[0m\n\u001b[1;32m    402\u001b[0m         \u001b[0mparams\u001b[0m\u001b[0;34m[\u001b[0m\u001b[0;34m\"id\"\u001b[0m\u001b[0;34m]\u001b[0m \u001b[0;34m=\u001b[0m \u001b[0mself\u001b[0m\u001b[0;34m.\u001b[0m\u001b[0m_id\u001b[0m\u001b[0;34m\u001b[0m\u001b[0;34m\u001b[0m\u001b[0m\n\u001b[0;32m--> 403\u001b[0;31m         \u001b[0;32mreturn\u001b[0m \u001b[0mself\u001b[0m\u001b[0;34m.\u001b[0m\u001b[0m_parent\u001b[0m\u001b[0;34m.\u001b[0m\u001b[0mexecute\u001b[0m\u001b[0;34m(\u001b[0m\u001b[0mcommand\u001b[0m\u001b[0;34m,\u001b[0m \u001b[0mparams\u001b[0m\u001b[0;34m)\u001b[0m\u001b[0;34m\u001b[0m\u001b[0;34m\u001b[0m\u001b[0m\n\u001b[0m\u001b[1;32m    404\u001b[0m \u001b[0;34m\u001b[0m\u001b[0m\n\u001b[1;32m    405\u001b[0m     \u001b[0;32mdef\u001b[0m \u001b[0mfind_element\u001b[0m\u001b[0;34m(\u001b[0m\u001b[0mself\u001b[0m\u001b[0;34m,\u001b[0m \u001b[0mby\u001b[0m\u001b[0;34m=\u001b[0m\u001b[0mBy\u001b[0m\u001b[0;34m.\u001b[0m\u001b[0mID\u001b[0m\u001b[0;34m,\u001b[0m \u001b[0mvalue\u001b[0m\u001b[0;34m=\u001b[0m\u001b[0;32mNone\u001b[0m\u001b[0;34m)\u001b[0m \u001b[0;34m->\u001b[0m \u001b[0mWebElement\u001b[0m\u001b[0;34m:\u001b[0m\u001b[0;34m\u001b[0m\u001b[0;34m\u001b[0m\u001b[0m\n",
      "\u001b[0;32m/opt/anaconda3/lib/python3.7/site-packages/selenium/webdriver/remote/webdriver.py\u001b[0m in \u001b[0;36mexecute\u001b[0;34m(self, driver_command, params)\u001b[0m\n\u001b[1;32m    438\u001b[0m         \u001b[0mresponse\u001b[0m \u001b[0;34m=\u001b[0m \u001b[0mself\u001b[0m\u001b[0;34m.\u001b[0m\u001b[0mcommand_executor\u001b[0m\u001b[0;34m.\u001b[0m\u001b[0mexecute\u001b[0m\u001b[0;34m(\u001b[0m\u001b[0mdriver_command\u001b[0m\u001b[0;34m,\u001b[0m \u001b[0mparams\u001b[0m\u001b[0;34m)\u001b[0m\u001b[0;34m\u001b[0m\u001b[0;34m\u001b[0m\u001b[0m\n\u001b[1;32m    439\u001b[0m         \u001b[0;32mif\u001b[0m \u001b[0mresponse\u001b[0m\u001b[0;34m:\u001b[0m\u001b[0;34m\u001b[0m\u001b[0;34m\u001b[0m\u001b[0m\n\u001b[0;32m--> 440\u001b[0;31m             \u001b[0mself\u001b[0m\u001b[0;34m.\u001b[0m\u001b[0merror_handler\u001b[0m\u001b[0;34m.\u001b[0m\u001b[0mcheck_response\u001b[0m\u001b[0;34m(\u001b[0m\u001b[0mresponse\u001b[0m\u001b[0;34m)\u001b[0m\u001b[0;34m\u001b[0m\u001b[0;34m\u001b[0m\u001b[0m\n\u001b[0m\u001b[1;32m    441\u001b[0m             \u001b[0mresponse\u001b[0m\u001b[0;34m[\u001b[0m\u001b[0;34m\"value\"\u001b[0m\u001b[0;34m]\u001b[0m \u001b[0;34m=\u001b[0m \u001b[0mself\u001b[0m\u001b[0;34m.\u001b[0m\u001b[0m_unwrap_value\u001b[0m\u001b[0;34m(\u001b[0m\u001b[0mresponse\u001b[0m\u001b[0;34m.\u001b[0m\u001b[0mget\u001b[0m\u001b[0;34m(\u001b[0m\u001b[0;34m\"value\"\u001b[0m\u001b[0;34m,\u001b[0m \u001b[0;32mNone\u001b[0m\u001b[0;34m)\u001b[0m\u001b[0;34m)\u001b[0m\u001b[0;34m\u001b[0m\u001b[0;34m\u001b[0m\u001b[0m\n\u001b[1;32m    442\u001b[0m             \u001b[0;32mreturn\u001b[0m \u001b[0mresponse\u001b[0m\u001b[0;34m\u001b[0m\u001b[0;34m\u001b[0m\u001b[0m\n",
      "\u001b[0;32m/opt/anaconda3/lib/python3.7/site-packages/selenium/webdriver/remote/errorhandler.py\u001b[0m in \u001b[0;36mcheck_response\u001b[0;34m(self, response)\u001b[0m\n\u001b[1;32m    243\u001b[0m                 \u001b[0malert_text\u001b[0m \u001b[0;34m=\u001b[0m \u001b[0mvalue\u001b[0m\u001b[0;34m[\u001b[0m\u001b[0;34m\"alert\"\u001b[0m\u001b[0;34m]\u001b[0m\u001b[0;34m.\u001b[0m\u001b[0mget\u001b[0m\u001b[0;34m(\u001b[0m\u001b[0;34m\"text\"\u001b[0m\u001b[0;34m)\u001b[0m\u001b[0;34m\u001b[0m\u001b[0;34m\u001b[0m\u001b[0m\n\u001b[1;32m    244\u001b[0m             \u001b[0;32mraise\u001b[0m \u001b[0mexception_class\u001b[0m\u001b[0;34m(\u001b[0m\u001b[0mmessage\u001b[0m\u001b[0;34m,\u001b[0m \u001b[0mscreen\u001b[0m\u001b[0;34m,\u001b[0m \u001b[0mstacktrace\u001b[0m\u001b[0;34m,\u001b[0m \u001b[0malert_text\u001b[0m\u001b[0;34m)\u001b[0m  \u001b[0;31m# type: ignore[call-arg]  # mypy is not smart enough here\u001b[0m\u001b[0;34m\u001b[0m\u001b[0;34m\u001b[0m\u001b[0m\n\u001b[0;32m--> 245\u001b[0;31m         \u001b[0;32mraise\u001b[0m \u001b[0mexception_class\u001b[0m\u001b[0;34m(\u001b[0m\u001b[0mmessage\u001b[0m\u001b[0;34m,\u001b[0m \u001b[0mscreen\u001b[0m\u001b[0;34m,\u001b[0m \u001b[0mstacktrace\u001b[0m\u001b[0;34m)\u001b[0m\u001b[0;34m\u001b[0m\u001b[0;34m\u001b[0m\u001b[0m\n\u001b[0m",
      "\u001b[0;31mWebDriverException\u001b[0m: Message: unknown error: unhandled inspector error: {\"code\":-32000,\"message\":\"No node with given id found\"}\n  (Session info: chrome=113.0.5672.126)\nStacktrace:\n0   chromedriver                        0x0000000100f3b8ac chromedriver + 4257964\n1   chromedriver                        0x0000000100f33f40 chromedriver + 4226880\n2   chromedriver                        0x0000000100b709d4 chromedriver + 281044\n3   chromedriver                        0x0000000100b5b0b8 chromedriver + 192696\n4   chromedriver                        0x0000000100b5934c chromedriver + 185164\n5   chromedriver                        0x0000000100b59620 chromedriver + 185888\n6   chromedriver                        0x0000000100b7df6c chromedriver + 335724\n7   chromedriver                        0x0000000100b755c8 chromedriver + 300488\n8   chromedriver                        0x0000000100b7410c chromedriver + 295180\n9   chromedriver                        0x0000000100b76b34 chromedriver + 305972\n10  chromedriver                        0x0000000100b76c24 chromedriver + 306212\n11  chromedriver                        0x0000000100ba60ec chromedriver + 499948\n12  chromedriver                        0x0000000100ba11cc chromedriver + 479692\n13  chromedriver                        0x0000000100be27e4 chromedriver + 747492\n14  chromedriver                        0x0000000100b9f98c chromedriver + 473484\n15  chromedriver                        0x0000000100ba098c chromedriver + 477580\n16  chromedriver                        0x0000000100efa900 chromedriver + 3991808\n17  chromedriver                        0x0000000100efe354 chromedriver + 4006740\n18  chromedriver                        0x0000000100efe940 chromedriver + 4008256\n19  chromedriver                        0x0000000100f0433c chromedriver + 4031292\n20  chromedriver                        0x0000000100efef34 chromedriver + 4009780\n21  chromedriver                        0x0000000100ed7490 chromedriver + 3847312\n22  chromedriver                        0x0000000100f1c9f4 chromedriver + 4131316\n23  chromedriver                        0x0000000100f1cb4c chromedriver + 4131660\n24  chromedriver                        0x0000000100f2d230 chromedriver + 4198960\n25  libsystem_pthread.dylib             0x00000001a8a6606c _pthread_start + 148\n26  libsystem_pthread.dylib             0x00000001a8a60e2c thread_start + 8\n"
     ]
    }
   ],
   "source": [
    "results[1].text"
   ]
  },
  {
   "cell_type": "code",
   "execution_count": 740,
   "metadata": {},
   "outputs": [
    {
     "ename": "IndexError",
     "evalue": "only integers, slices (`:`), ellipsis (`...`), numpy.newaxis (`None`) and integer or boolean arrays are valid indices",
     "output_type": "error",
     "traceback": [
      "\u001b[0;31m---------------------------------------------------------------------------\u001b[0m",
      "\u001b[0;31mIndexError\u001b[0m                                Traceback (most recent call last)",
      "\u001b[0;32m<ipython-input-740-9f4e197eeb3b>\u001b[0m in \u001b[0;36m<module>\u001b[0;34m\u001b[0m\n\u001b[1;32m      2\u001b[0m \u001b[0;34m\u001b[0m\u001b[0m\n\u001b[1;32m      3\u001b[0m \u001b[0;32mfor\u001b[0m \u001b[0mi\u001b[0m \u001b[0;32min\u001b[0m \u001b[0mresults\u001b[0m\u001b[0;34m:\u001b[0m\u001b[0;34m\u001b[0m\u001b[0;34m\u001b[0m\u001b[0m\n\u001b[0;32m----> 4\u001b[0;31m     \u001b[0mresults_text\u001b[0m\u001b[0;34m[\u001b[0m\u001b[0mi\u001b[0m\u001b[0;34m]\u001b[0m \u001b[0;34m=\u001b[0m \u001b[0mresults\u001b[0m\u001b[0;34m[\u001b[0m\u001b[0mi\u001b[0m\u001b[0;34m]\u001b[0m\u001b[0;34m.\u001b[0m\u001b[0mtext\u001b[0m\u001b[0;34m\u001b[0m\u001b[0;34m\u001b[0m\u001b[0m\n\u001b[0m",
      "\u001b[0;31mIndexError\u001b[0m: only integers, slices (`:`), ellipsis (`...`), numpy.newaxis (`None`) and integer or boolean arrays are valid indices"
     ]
    }
   ],
   "source": [
    "results_text = results \n",
    "\n",
    "for i in results: \n",
    "    results_text[i] = results[i].text"
   ]
  },
  {
   "cell_type": "code",
   "execution_count": 392,
   "metadata": {},
   "outputs": [],
   "source": [
    "actions = ActionChains(driver)"
   ]
  },
  {
   "cell_type": "code",
   "execution_count": 470,
   "metadata": {},
   "outputs": [],
   "source": [
    "scroll_button = driver.find_elements(By.XPATH, \"//div[@class='scroll-bar-part-bar']\")"
   ]
  },
  {
   "cell_type": "code",
   "execution_count": 482,
   "metadata": {},
   "outputs": [],
   "source": [
    "grid_holder = driver.find_elements(By.XPATH, \"//div[@role='row']\")"
   ]
  },
  {
   "cell_type": "code",
   "execution_count": 471,
   "metadata": {},
   "outputs": [
    {
     "data": {
      "text/plain": [
       "2"
      ]
     },
     "execution_count": 471,
     "metadata": {},
     "output_type": "execute_result"
    }
   ],
   "source": [
    "len(scroll_button)"
   ]
  },
  {
   "cell_type": "code",
   "execution_count": 483,
   "metadata": {},
   "outputs": [
    {
     "data": {
      "text/plain": [
       "'227'"
      ]
     },
     "execution_count": 483,
     "metadata": {},
     "output_type": "execute_result"
    }
   ],
   "source": [
    "grid_holder[1].get_attribute(\"aria-rowindex\")  ## aria-rowcount for GRID xpath, aria-rowindex for ROW xpath"
   ]
  },
  {
   "cell_type": "code",
   "execution_count": 361,
   "metadata": {},
   "outputs": [
    {
     "data": {
      "text/plain": [
       "{'x': 121, 'y': 372}"
      ]
     },
     "execution_count": 361,
     "metadata": {},
     "output_type": "execute_result"
    }
   ],
   "source": [
    "grid_holder[1].location "
   ]
  },
  {
   "cell_type": "code",
   "execution_count": 362,
   "metadata": {},
   "outputs": [
    {
     "data": {
      "text/plain": [
       "{'x': 121, 'y': 413}"
      ]
     },
     "execution_count": 362,
     "metadata": {},
     "output_type": "execute_result"
    }
   ],
   "source": [
    "grid_holder[2].location "
   ]
  },
  {
   "cell_type": "code",
   "execution_count": 363,
   "metadata": {},
   "outputs": [
    {
     "data": {
      "text/plain": [
       "41"
      ]
     },
     "execution_count": 363,
     "metadata": {},
     "output_type": "execute_result"
    }
   ],
   "source": [
    "413-372"
   ]
  },
  {
   "cell_type": "code",
   "execution_count": 465,
   "metadata": {},
   "outputs": [],
   "source": [
    "soup = BeautifulSoup(driver.page_source, \"html.parser\")"
   ]
  },
  {
   "cell_type": "code",
   "execution_count": 466,
   "metadata": {},
   "outputs": [],
   "source": [
    "rows = soup.find_all('div', role='row')\n"
   ]
  },
  {
   "cell_type": "code",
   "execution_count": null,
   "metadata": {},
   "outputs": [],
   "source": []
  },
  {
   "cell_type": "code",
   "execution_count": 467,
   "metadata": {},
   "outputs": [
    {
     "name": "stdout",
     "output_type": "stream",
     "text": [
      "Row SelectionCategory State Description Source \n",
      "Select RowOtherColorado$84.84 million to remain available for payroll and other necessary expenditures for public safety, public health, health care, human services, and similar employees whose services are substantially dedicated to mitigating or responding to the COVID-19 emergency.State\n",
      "Select RowK-12 EducationConnecticut $164.5 million to facilitate the safe reopening of schools in the Fall and to support the academic success of all students. The funds will support bridging the technology gap, providing quality academic supports for all students, and implementing public health best practices to keep students and staff safe.State\n",
      "Select RowHousing AssistanceConnecticut$10 million for mortgage relief to homeowners.State\n",
      "Select RowHealthConnecticut$100 million to PPE is necessary for  frontline workers and first responders. PPE includes a broad range of items with a focus on surgical masks, face masks, face shields, gowns, and gloves.State\n",
      "Select RowCommunity/Human ServicesConnecticut$125 million to non-profit providers to support additional staff costs related to the pandemic, the purchase and distribution of PPE, assistance with testing, as well as funding to meet other challenges of COVID-19.State\n",
      "Select RowUnemployment/Workforce DevelopmentConnecticut$17 million to the Department of Labor to the five workforce development boards (WDBs) to support COVID related summer youth employment initiatives. These programs provide lifelong career skills, key learning opportunities, and the path to a brighter future for many of our youth. Specifically, the WDBs will seek to provide funding to support health related youth employment through partnerships with FQHCs, AHECs and other community providers.State\n",
      "Select RowOtherConnecticut$198 million for direct operational costs incurred by state agencies in response to the public health emergency.State\n",
      "Select RowHousing AssistanceConnecticut$2.5 million to support renters excluded from federal assistance because of their or their loved ones’ immigration status.State\n",
      "Select RowOtherConnecticut$2.6 million for public libraries, librarians staff and services.State\n",
      "Select RowHealthConnecticut$230 million to expand access to testing, the funding provided by the CRF will be leveraged with FEMA Disaster Declaration Funding and direct funding made to the Department of Public Health to support the state’s efforts in identifying additional testing capacity and increasing the use of existing testing platforms statewide. This will include working to develop new technologies, enhancing testing inventory and capacity, discovering who is carrying anti-bodies, and increasing efficiencies in the ordering, purchasing, and delivering of testing supplies;State\n",
      "Select RowHigher EducationConnecticut$25 million to Connecticut State Colleges and Universities to assist with immediate response expenses including PPE and supplies, direct facility costs such as cleaning and sanitizing buildings, housing accommodations for students, and to reimburse the system for medical equipment that was donated to assist with the pandemic response.State\n",
      "Select RowHealthConnecticut$31.2 million will be sent to nursing homes, primarily in the form of increased Medicaid payments.Media\n",
      "Select RowHousing AssistanceConnecticut$40 million to the Department of Housing and the Connecticut Housing Finance Authority (CHFA), the state will be providing relief to assist renters and homeowners in order to prevent eviction and foreclosure actions. Temporary Housing Assistance will be made available to assist both documented and undocumented households in the state to address both late payments caused by income loss and/or greater expenses due to COVID-19 and has negatively impacted a household’s ability to pay their full housing cost over the next few months.  In addition, a portion of the Emergency Mortgage Assistance Program administered by CHFA will be reserved to provide assistance to homeowners who are delinquent on their first mortgage and are at risk of foreclosure proceedings due to financial hardship in connection with the COVID-19 pandemic.State\n",
      "Select RowHousing AssistanceConnecticut$5 million to support renters who were facing eviction before the pandemic.State\n",
      "Select RowHousing AssistanceConnecticut$5.8 million to rehouse people exiting homelessness or incarceration.State\n",
      "Select RowSmall Business ReliefConnecticut$50 million for a CARES Small Business Grant Program to assist small businesses and nonprofits that have been impacted by the economic downturn caused by the global COVID-19 pandemic. The program will provide businesses and nonprofits in Connecticut that have fewer than twenty employees or a 2019 payroll of less than $1.5 million with a one-time grant of $5,000.State\n",
      "Select RowLocal GovernmentConnecticut$75 million to municipalities to help towns and cities face unexpected and unbudgeted costs. $15 million of the $75 million Municipal CRF Program allocation has been reserved to expand regional testing opportunities for teachers and staff to mitigate this expense for LEA’s and municipalities and provide increased support for safe operations of our schools.State\n",
      "Select RowHealthConnecticut$85 million for nursing homes through a series of initiatives. With the initiatives is a $600 per bed per day grant to COVID Recovery Facilities and Alternate COVID Recovery Facilities, which are exclusively serving people recovering from positive COVID cases.  In addition, there are grant payments that approximate a 10% increase for April and 20% for May and June 2020 for nursing homes that are not COVID Recovery Facilities or Alternate COVID Recovery Facilities that can be used for: (a) employee wages, including staff retention incentive payments, overtime, and shift incentive payments; (b) new costs related to screening of visitors for COVID-19, personal protective equipment (PPE), and cleaning and housekeeping supplies; and (c) other COVID-related costs.State\n",
      "Select RowCommunity/Human ServicesConnecticut$9 million to for an art organization grant program. Qualifying organizations will receive a base grant of $5,000. For organizations that have raised funds between March 10 and November 1, 2020, the program will offer a supplemental match of 50 percent of contributed income during that period. The maximum award for any organization is $750,000.State\n",
      "Select RowUnemployment/Workforce DevelopmentConnecticutFunding for the Back to Work CT program, which will provide a one-time $1,000 bonus payment to 10,000 long-term unemployed people who live in Connecticut and obtain new jobs. The program is designed to encouraged long-term unemployed individuals to find work. \n"
     ]
    }
   ],
   "source": [
    "for row in rows:\n",
    "    print(row.text)"
   ]
  },
  {
   "cell_type": "code",
   "execution_count": 396,
   "metadata": {},
   "outputs": [
    {
     "data": {
      "text/plain": [
       "21"
      ]
     },
     "execution_count": 396,
     "metadata": {},
     "output_type": "execute_result"
    }
   ],
   "source": [
    "len(grid_holder)"
   ]
  },
  {
   "cell_type": "code",
   "execution_count": 750,
   "metadata": {},
   "outputs": [
    {
     "ename": "WebDriverException",
     "evalue": "Message: unknown error: unhandled inspector error: {\"code\":-32000,\"message\":\"No node with given id found\"}\n  (Session info: chrome=113.0.5672.126)\nStacktrace:\n0   chromedriver                        0x0000000100f3b8ac chromedriver + 4257964\n1   chromedriver                        0x0000000100f33f40 chromedriver + 4226880\n2   chromedriver                        0x0000000100b709d4 chromedriver + 281044\n3   chromedriver                        0x0000000100b5b0b8 chromedriver + 192696\n4   chromedriver                        0x0000000100b5934c chromedriver + 185164\n5   chromedriver                        0x0000000100b59620 chromedriver + 185888\n6   chromedriver                        0x0000000100b7df6c chromedriver + 335724\n7   chromedriver                        0x0000000100b755c8 chromedriver + 300488\n8   chromedriver                        0x0000000100b7410c chromedriver + 295180\n9   chromedriver                        0x0000000100b76b34 chromedriver + 305972\n10  chromedriver                        0x0000000100b76c24 chromedriver + 306212\n11  chromedriver                        0x0000000100ba60ec chromedriver + 499948\n12  chromedriver                        0x0000000100ba11cc chromedriver + 479692\n13  chromedriver                        0x0000000100be27e4 chromedriver + 747492\n14  chromedriver                        0x0000000100b9f98c chromedriver + 473484\n15  chromedriver                        0x0000000100ba098c chromedriver + 477580\n16  chromedriver                        0x0000000100efa900 chromedriver + 3991808\n17  chromedriver                        0x0000000100efe354 chromedriver + 4006740\n18  chromedriver                        0x0000000100efe940 chromedriver + 4008256\n19  chromedriver                        0x0000000100f0433c chromedriver + 4031292\n20  chromedriver                        0x0000000100efef34 chromedriver + 4009780\n21  chromedriver                        0x0000000100ed7490 chromedriver + 3847312\n22  chromedriver                        0x0000000100f1c9f4 chromedriver + 4131316\n23  chromedriver                        0x0000000100f1cb4c chromedriver + 4131660\n24  chromedriver                        0x0000000100f2d230 chromedriver + 4198960\n25  libsystem_pthread.dylib             0x00000001a8a6606c _pthread_start + 148\n26  libsystem_pthread.dylib             0x00000001a8a60e2c thread_start + 8\n",
     "output_type": "error",
     "traceback": [
      "\u001b[0;31m---------------------------------------------------------------------------\u001b[0m",
      "\u001b[0;31mWebDriverException\u001b[0m                        Traceback (most recent call last)",
      "\u001b[0;32m<ipython-input-750-20da6185888d>\u001b[0m in \u001b[0;36m<module>\u001b[0;34m\u001b[0m\n\u001b[1;32m      1\u001b[0m \u001b[0;32mfor\u001b[0m \u001b[0mi\u001b[0m \u001b[0;32min\u001b[0m \u001b[0mgrid_holder\u001b[0m\u001b[0;34m:\u001b[0m\u001b[0;34m\u001b[0m\u001b[0;34m\u001b[0m\u001b[0m\n\u001b[0;32m----> 2\u001b[0;31m     \u001b[0mprint\u001b[0m\u001b[0;34m(\u001b[0m\u001b[0mi\u001b[0m\u001b[0;34m.\u001b[0m\u001b[0mtext\u001b[0m\u001b[0;34m)\u001b[0m\u001b[0;34m\u001b[0m\u001b[0;34m\u001b[0m\u001b[0m\n\u001b[0m",
      "\u001b[0;32m/opt/anaconda3/lib/python3.7/site-packages/selenium/webdriver/remote/webelement.py\u001b[0m in \u001b[0;36mtext\u001b[0;34m(self)\u001b[0m\n\u001b[1;32m     88\u001b[0m     \u001b[0;32mdef\u001b[0m \u001b[0mtext\u001b[0m\u001b[0;34m(\u001b[0m\u001b[0mself\u001b[0m\u001b[0;34m)\u001b[0m \u001b[0;34m->\u001b[0m \u001b[0mstr\u001b[0m\u001b[0;34m:\u001b[0m\u001b[0;34m\u001b[0m\u001b[0;34m\u001b[0m\u001b[0m\n\u001b[1;32m     89\u001b[0m         \u001b[0;34m\"\"\"The text of the element.\"\"\"\u001b[0m\u001b[0;34m\u001b[0m\u001b[0;34m\u001b[0m\u001b[0m\n\u001b[0;32m---> 90\u001b[0;31m         \u001b[0;32mreturn\u001b[0m \u001b[0mself\u001b[0m\u001b[0;34m.\u001b[0m\u001b[0m_execute\u001b[0m\u001b[0;34m(\u001b[0m\u001b[0mCommand\u001b[0m\u001b[0;34m.\u001b[0m\u001b[0mGET_ELEMENT_TEXT\u001b[0m\u001b[0;34m)\u001b[0m\u001b[0;34m[\u001b[0m\u001b[0;34m\"value\"\u001b[0m\u001b[0;34m]\u001b[0m\u001b[0;34m\u001b[0m\u001b[0;34m\u001b[0m\u001b[0m\n\u001b[0m\u001b[1;32m     91\u001b[0m \u001b[0;34m\u001b[0m\u001b[0m\n\u001b[1;32m     92\u001b[0m     \u001b[0;32mdef\u001b[0m \u001b[0mclick\u001b[0m\u001b[0;34m(\u001b[0m\u001b[0mself\u001b[0m\u001b[0;34m)\u001b[0m \u001b[0;34m->\u001b[0m \u001b[0;32mNone\u001b[0m\u001b[0;34m:\u001b[0m\u001b[0;34m\u001b[0m\u001b[0;34m\u001b[0m\u001b[0m\n",
      "\u001b[0;32m/opt/anaconda3/lib/python3.7/site-packages/selenium/webdriver/remote/webelement.py\u001b[0m in \u001b[0;36m_execute\u001b[0;34m(self, command, params)\u001b[0m\n\u001b[1;32m    401\u001b[0m             \u001b[0mparams\u001b[0m \u001b[0;34m=\u001b[0m \u001b[0;34m{\u001b[0m\u001b[0;34m}\u001b[0m\u001b[0;34m\u001b[0m\u001b[0;34m\u001b[0m\u001b[0m\n\u001b[1;32m    402\u001b[0m         \u001b[0mparams\u001b[0m\u001b[0;34m[\u001b[0m\u001b[0;34m\"id\"\u001b[0m\u001b[0;34m]\u001b[0m \u001b[0;34m=\u001b[0m \u001b[0mself\u001b[0m\u001b[0;34m.\u001b[0m\u001b[0m_id\u001b[0m\u001b[0;34m\u001b[0m\u001b[0;34m\u001b[0m\u001b[0m\n\u001b[0;32m--> 403\u001b[0;31m         \u001b[0;32mreturn\u001b[0m \u001b[0mself\u001b[0m\u001b[0;34m.\u001b[0m\u001b[0m_parent\u001b[0m\u001b[0;34m.\u001b[0m\u001b[0mexecute\u001b[0m\u001b[0;34m(\u001b[0m\u001b[0mcommand\u001b[0m\u001b[0;34m,\u001b[0m \u001b[0mparams\u001b[0m\u001b[0;34m)\u001b[0m\u001b[0;34m\u001b[0m\u001b[0;34m\u001b[0m\u001b[0m\n\u001b[0m\u001b[1;32m    404\u001b[0m \u001b[0;34m\u001b[0m\u001b[0m\n\u001b[1;32m    405\u001b[0m     \u001b[0;32mdef\u001b[0m \u001b[0mfind_element\u001b[0m\u001b[0;34m(\u001b[0m\u001b[0mself\u001b[0m\u001b[0;34m,\u001b[0m \u001b[0mby\u001b[0m\u001b[0;34m=\u001b[0m\u001b[0mBy\u001b[0m\u001b[0;34m.\u001b[0m\u001b[0mID\u001b[0m\u001b[0;34m,\u001b[0m \u001b[0mvalue\u001b[0m\u001b[0;34m=\u001b[0m\u001b[0;32mNone\u001b[0m\u001b[0;34m)\u001b[0m \u001b[0;34m->\u001b[0m \u001b[0mWebElement\u001b[0m\u001b[0;34m:\u001b[0m\u001b[0;34m\u001b[0m\u001b[0;34m\u001b[0m\u001b[0m\n",
      "\u001b[0;32m/opt/anaconda3/lib/python3.7/site-packages/selenium/webdriver/remote/webdriver.py\u001b[0m in \u001b[0;36mexecute\u001b[0;34m(self, driver_command, params)\u001b[0m\n\u001b[1;32m    438\u001b[0m         \u001b[0mresponse\u001b[0m \u001b[0;34m=\u001b[0m \u001b[0mself\u001b[0m\u001b[0;34m.\u001b[0m\u001b[0mcommand_executor\u001b[0m\u001b[0;34m.\u001b[0m\u001b[0mexecute\u001b[0m\u001b[0;34m(\u001b[0m\u001b[0mdriver_command\u001b[0m\u001b[0;34m,\u001b[0m \u001b[0mparams\u001b[0m\u001b[0;34m)\u001b[0m\u001b[0;34m\u001b[0m\u001b[0;34m\u001b[0m\u001b[0m\n\u001b[1;32m    439\u001b[0m         \u001b[0;32mif\u001b[0m \u001b[0mresponse\u001b[0m\u001b[0;34m:\u001b[0m\u001b[0;34m\u001b[0m\u001b[0;34m\u001b[0m\u001b[0m\n\u001b[0;32m--> 440\u001b[0;31m             \u001b[0mself\u001b[0m\u001b[0;34m.\u001b[0m\u001b[0merror_handler\u001b[0m\u001b[0;34m.\u001b[0m\u001b[0mcheck_response\u001b[0m\u001b[0;34m(\u001b[0m\u001b[0mresponse\u001b[0m\u001b[0;34m)\u001b[0m\u001b[0;34m\u001b[0m\u001b[0;34m\u001b[0m\u001b[0m\n\u001b[0m\u001b[1;32m    441\u001b[0m             \u001b[0mresponse\u001b[0m\u001b[0;34m[\u001b[0m\u001b[0;34m\"value\"\u001b[0m\u001b[0;34m]\u001b[0m \u001b[0;34m=\u001b[0m \u001b[0mself\u001b[0m\u001b[0;34m.\u001b[0m\u001b[0m_unwrap_value\u001b[0m\u001b[0;34m(\u001b[0m\u001b[0mresponse\u001b[0m\u001b[0;34m.\u001b[0m\u001b[0mget\u001b[0m\u001b[0;34m(\u001b[0m\u001b[0;34m\"value\"\u001b[0m\u001b[0;34m,\u001b[0m \u001b[0;32mNone\u001b[0m\u001b[0;34m)\u001b[0m\u001b[0;34m)\u001b[0m\u001b[0;34m\u001b[0m\u001b[0;34m\u001b[0m\u001b[0m\n\u001b[1;32m    442\u001b[0m             \u001b[0;32mreturn\u001b[0m \u001b[0mresponse\u001b[0m\u001b[0;34m\u001b[0m\u001b[0;34m\u001b[0m\u001b[0m\n",
      "\u001b[0;32m/opt/anaconda3/lib/python3.7/site-packages/selenium/webdriver/remote/errorhandler.py\u001b[0m in \u001b[0;36mcheck_response\u001b[0;34m(self, response)\u001b[0m\n\u001b[1;32m    243\u001b[0m                 \u001b[0malert_text\u001b[0m \u001b[0;34m=\u001b[0m \u001b[0mvalue\u001b[0m\u001b[0;34m[\u001b[0m\u001b[0;34m\"alert\"\u001b[0m\u001b[0;34m]\u001b[0m\u001b[0;34m.\u001b[0m\u001b[0mget\u001b[0m\u001b[0;34m(\u001b[0m\u001b[0;34m\"text\"\u001b[0m\u001b[0;34m)\u001b[0m\u001b[0;34m\u001b[0m\u001b[0;34m\u001b[0m\u001b[0m\n\u001b[1;32m    244\u001b[0m             \u001b[0;32mraise\u001b[0m \u001b[0mexception_class\u001b[0m\u001b[0;34m(\u001b[0m\u001b[0mmessage\u001b[0m\u001b[0;34m,\u001b[0m \u001b[0mscreen\u001b[0m\u001b[0;34m,\u001b[0m \u001b[0mstacktrace\u001b[0m\u001b[0;34m,\u001b[0m \u001b[0malert_text\u001b[0m\u001b[0;34m)\u001b[0m  \u001b[0;31m# type: ignore[call-arg]  # mypy is not smart enough here\u001b[0m\u001b[0;34m\u001b[0m\u001b[0;34m\u001b[0m\u001b[0m\n\u001b[0;32m--> 245\u001b[0;31m         \u001b[0;32mraise\u001b[0m \u001b[0mexception_class\u001b[0m\u001b[0;34m(\u001b[0m\u001b[0mmessage\u001b[0m\u001b[0;34m,\u001b[0m \u001b[0mscreen\u001b[0m\u001b[0;34m,\u001b[0m \u001b[0mstacktrace\u001b[0m\u001b[0;34m)\u001b[0m\u001b[0;34m\u001b[0m\u001b[0;34m\u001b[0m\u001b[0m\n\u001b[0m",
      "\u001b[0;31mWebDriverException\u001b[0m: Message: unknown error: unhandled inspector error: {\"code\":-32000,\"message\":\"No node with given id found\"}\n  (Session info: chrome=113.0.5672.126)\nStacktrace:\n0   chromedriver                        0x0000000100f3b8ac chromedriver + 4257964\n1   chromedriver                        0x0000000100f33f40 chromedriver + 4226880\n2   chromedriver                        0x0000000100b709d4 chromedriver + 281044\n3   chromedriver                        0x0000000100b5b0b8 chromedriver + 192696\n4   chromedriver                        0x0000000100b5934c chromedriver + 185164\n5   chromedriver                        0x0000000100b59620 chromedriver + 185888\n6   chromedriver                        0x0000000100b7df6c chromedriver + 335724\n7   chromedriver                        0x0000000100b755c8 chromedriver + 300488\n8   chromedriver                        0x0000000100b7410c chromedriver + 295180\n9   chromedriver                        0x0000000100b76b34 chromedriver + 305972\n10  chromedriver                        0x0000000100b76c24 chromedriver + 306212\n11  chromedriver                        0x0000000100ba60ec chromedriver + 499948\n12  chromedriver                        0x0000000100ba11cc chromedriver + 479692\n13  chromedriver                        0x0000000100be27e4 chromedriver + 747492\n14  chromedriver                        0x0000000100b9f98c chromedriver + 473484\n15  chromedriver                        0x0000000100ba098c chromedriver + 477580\n16  chromedriver                        0x0000000100efa900 chromedriver + 3991808\n17  chromedriver                        0x0000000100efe354 chromedriver + 4006740\n18  chromedriver                        0x0000000100efe940 chromedriver + 4008256\n19  chromedriver                        0x0000000100f0433c chromedriver + 4031292\n20  chromedriver                        0x0000000100efef34 chromedriver + 4009780\n21  chromedriver                        0x0000000100ed7490 chromedriver + 3847312\n22  chromedriver                        0x0000000100f1c9f4 chromedriver + 4131316\n23  chromedriver                        0x0000000100f1cb4c chromedriver + 4131660\n24  chromedriver                        0x0000000100f2d230 chromedriver + 4198960\n25  libsystem_pthread.dylib             0x00000001a8a6606c _pthread_start + 148\n26  libsystem_pthread.dylib             0x00000001a8a60e2c thread_start + 8\n"
     ]
    }
   ],
   "source": [
    "for i in grid_holder: \n",
    "    print(i.text)"
   ]
  },
  {
   "cell_type": "code",
   "execution_count": 485,
   "metadata": {},
   "outputs": [
    {
     "data": {
      "text/plain": [
       "'K-12 Education\\nConnecticut\\n$164.5 million to facilitate the safe reopening of schools in the Fall and to support the academic success of all students. The funds will support bridging the technology gap, providing quality academic supports for all students, and implementing public health best practices to keep students and staff safe.\\nState'"
      ]
     },
     "execution_count": 485,
     "metadata": {},
     "output_type": "execute_result"
    }
   ],
   "source": [
    "grid_holder[1].text"
   ]
  },
  {
   "cell_type": "code",
   "execution_count": 267,
   "metadata": {
    "collapsed": true
   },
   "outputs": [],
   "source": [
    "data_holder = grid_holder[0].text"
   ]
  },
  {
   "cell_type": "code",
   "execution_count": 268,
   "metadata": {},
   "outputs": [],
   "source": [
    "df = pd.DataFrame([x.split('\\n', 3) for x in data_holder.split('Select Row')])"
   ]
  },
  {
   "cell_type": "code",
   "execution_count": 252,
   "metadata": {},
   "outputs": [
    {
     "data": {
      "text/plain": [
       "(21, 4)"
      ]
     },
     "execution_count": 252,
     "metadata": {},
     "output_type": "execute_result"
    }
   ],
   "source": [
    "df.shape"
   ]
  },
  {
   "cell_type": "code",
   "execution_count": 269,
   "metadata": {},
   "outputs": [
    {
     "data": {
      "text/html": [
       "<div>\n",
       "<style scoped>\n",
       "    .dataframe tbody tr th:only-of-type {\n",
       "        vertical-align: middle;\n",
       "    }\n",
       "\n",
       "    .dataframe tbody tr th {\n",
       "        vertical-align: top;\n",
       "    }\n",
       "\n",
       "    .dataframe thead th {\n",
       "        text-align: right;\n",
       "    }\n",
       "</style>\n",
       "<table border=\"1\" class=\"dataframe\">\n",
       "  <thead>\n",
       "    <tr style=\"text-align: right;\">\n",
       "      <th></th>\n",
       "      <th>0</th>\n",
       "      <th>1</th>\n",
       "      <th>2</th>\n",
       "      <th>3</th>\n",
       "    </tr>\n",
       "  </thead>\n",
       "  <tbody>\n",
       "    <tr>\n",
       "      <td>0</td>\n",
       "      <td>Row Selection</td>\n",
       "      <td>Category</td>\n",
       "      <td>State</td>\n",
       "      <td>Description\\nSource\\n</td>\n",
       "    </tr>\n",
       "    <tr>\n",
       "      <td>1</td>\n",
       "      <td></td>\n",
       "      <td>Small Business Relief</td>\n",
       "      <td>Alabama</td>\n",
       "      <td>$206 million for Revive Plus, a grant program ...</td>\n",
       "    </tr>\n",
       "    <tr>\n",
       "      <td>2</td>\n",
       "      <td></td>\n",
       "      <td>Health</td>\n",
       "      <td>Alabama</td>\n",
       "      <td>$1.2 million UAB Post-Acute Care Program.\\nSta...</td>\n",
       "    </tr>\n",
       "    <tr>\n",
       "      <td>3</td>\n",
       "      <td></td>\n",
       "      <td>Corrections/Courts/Judiciary</td>\n",
       "      <td>Alabama</td>\n",
       "      <td>$10 million to courts.\\nState\\n</td>\n",
       "    </tr>\n",
       "    <tr>\n",
       "      <td>4</td>\n",
       "      <td></td>\n",
       "      <td>Health</td>\n",
       "      <td>Alabama</td>\n",
       "      <td>$10.3 million for healthcare costs.\\nState\\n</td>\n",
       "    </tr>\n",
       "    <tr>\n",
       "      <td>5</td>\n",
       "      <td></td>\n",
       "      <td>Health</td>\n",
       "      <td>Alabama</td>\n",
       "      <td>$10.6 PPE Production Expansion.\\nState\\n</td>\n",
       "    </tr>\n",
       "    <tr>\n",
       "      <td>6</td>\n",
       "      <td></td>\n",
       "      <td>Technology/Broadband</td>\n",
       "      <td>Alabama</td>\n",
       "      <td>$100 million for educational remote learning d...</td>\n",
       "    </tr>\n",
       "    <tr>\n",
       "      <td>7</td>\n",
       "      <td></td>\n",
       "      <td>Community/Human Services</td>\n",
       "      <td>Alabama</td>\n",
       "      <td>$13.3 million to faith-based organizations.\\nS...</td>\n",
       "    </tr>\n",
       "    <tr>\n",
       "      <td>8</td>\n",
       "      <td></td>\n",
       "      <td>Higher Education</td>\n",
       "      <td>Alabama</td>\n",
       "      <td>$16 million for public universities remote ins...</td>\n",
       "    </tr>\n",
       "    <tr>\n",
       "      <td>9</td>\n",
       "      <td></td>\n",
       "      <td>Health</td>\n",
       "      <td>Alabama</td>\n",
       "      <td>$16 million for the Medical Provider Program.\\...</td>\n",
       "    </tr>\n",
       "    <tr>\n",
       "      <td>10</td>\n",
       "      <td></td>\n",
       "      <td>Small Business Relief</td>\n",
       "      <td>Alabama</td>\n",
       "      <td>$17.5 million to an Agribusiness Stabilization...</td>\n",
       "    </tr>\n",
       "    <tr>\n",
       "      <td>11</td>\n",
       "      <td></td>\n",
       "      <td>Local Government</td>\n",
       "      <td>Alabama</td>\n",
       "      <td>$178 million to counties and municipalities fo...</td>\n",
       "    </tr>\n",
       "    <tr>\n",
       "      <td>12</td>\n",
       "      <td></td>\n",
       "      <td>Community/Human Services</td>\n",
       "      <td>Alabama</td>\n",
       "      <td>$18.4 million to non-profits.\\nState\\n</td>\n",
       "    </tr>\n",
       "    <tr>\n",
       "      <td>13</td>\n",
       "      <td></td>\n",
       "      <td>Other</td>\n",
       "      <td>Alabama</td>\n",
       "      <td>$2.5 million for the Timber Owners Program.\\nS...</td>\n",
       "    </tr>\n",
       "    <tr>\n",
       "      <td>14</td>\n",
       "      <td></td>\n",
       "      <td>Higher Education</td>\n",
       "      <td>Alabama</td>\n",
       "      <td>$20 million for the Independent Colleges Progr...</td>\n",
       "    </tr>\n",
       "    <tr>\n",
       "      <td>15</td>\n",
       "      <td></td>\n",
       "      <td>Higher Education</td>\n",
       "      <td>Alabama</td>\n",
       "      <td>$27.3 million for community colleges remote in...</td>\n",
       "    </tr>\n",
       "    <tr>\n",
       "      <td>16</td>\n",
       "      <td></td>\n",
       "      <td>Community/Human Services</td>\n",
       "      <td>Alabama</td>\n",
       "      <td>$3.6 million for the Alabama Food Banks Progra...</td>\n",
       "    </tr>\n",
       "    <tr>\n",
       "      <td>17</td>\n",
       "      <td></td>\n",
       "      <td>Health</td>\n",
       "      <td>Alabama</td>\n",
       "      <td>$37 million to statewide testing.\\nState\\n</td>\n",
       "    </tr>\n",
       "    <tr>\n",
       "      <td>18</td>\n",
       "      <td></td>\n",
       "      <td>Unemployment/Workforce Development</td>\n",
       "      <td>Alabama</td>\n",
       "      <td>$385 million to the unemployment trust fund tr...</td>\n",
       "    </tr>\n",
       "    <tr>\n",
       "      <td>19</td>\n",
       "      <td></td>\n",
       "      <td>Health</td>\n",
       "      <td>Alabama</td>\n",
       "      <td>$5 million to the health department.\\nState\\n</td>\n",
       "    </tr>\n",
       "    <tr>\n",
       "      <td>20</td>\n",
       "      <td></td>\n",
       "      <td>Higher Education</td>\n",
       "      <td>Alabama</td>\n",
       "      <td>$50 million for colleges and universities.\\nState</td>\n",
       "    </tr>\n",
       "  </tbody>\n",
       "</table>\n",
       "</div>"
      ],
      "text/plain": [
       "                0                                   1        2  \\\n",
       "0   Row Selection                            Category    State   \n",
       "1                               Small Business Relief  Alabama   \n",
       "2                                              Health  Alabama   \n",
       "3                        Corrections/Courts/Judiciary  Alabama   \n",
       "4                                              Health  Alabama   \n",
       "5                                              Health  Alabama   \n",
       "6                                Technology/Broadband  Alabama   \n",
       "7                            Community/Human Services  Alabama   \n",
       "8                                    Higher Education  Alabama   \n",
       "9                                              Health  Alabama   \n",
       "10                              Small Business Relief  Alabama   \n",
       "11                                   Local Government  Alabama   \n",
       "12                           Community/Human Services  Alabama   \n",
       "13                                              Other  Alabama   \n",
       "14                                   Higher Education  Alabama   \n",
       "15                                   Higher Education  Alabama   \n",
       "16                           Community/Human Services  Alabama   \n",
       "17                                             Health  Alabama   \n",
       "18                 Unemployment/Workforce Development  Alabama   \n",
       "19                                             Health  Alabama   \n",
       "20                                   Higher Education  Alabama   \n",
       "\n",
       "                                                    3  \n",
       "0                               Description\\nSource\\n  \n",
       "1   $206 million for Revive Plus, a grant program ...  \n",
       "2   $1.2 million UAB Post-Acute Care Program.\\nSta...  \n",
       "3                     $10 million to courts.\\nState\\n  \n",
       "4        $10.3 million for healthcare costs.\\nState\\n  \n",
       "5            $10.6 PPE Production Expansion.\\nState\\n  \n",
       "6   $100 million for educational remote learning d...  \n",
       "7   $13.3 million to faith-based organizations.\\nS...  \n",
       "8   $16 million for public universities remote ins...  \n",
       "9   $16 million for the Medical Provider Program.\\...  \n",
       "10  $17.5 million to an Agribusiness Stabilization...  \n",
       "11  $178 million to counties and municipalities fo...  \n",
       "12             $18.4 million to non-profits.\\nState\\n  \n",
       "13  $2.5 million for the Timber Owners Program.\\nS...  \n",
       "14  $20 million for the Independent Colleges Progr...  \n",
       "15  $27.3 million for community colleges remote in...  \n",
       "16  $3.6 million for the Alabama Food Banks Progra...  \n",
       "17         $37 million to statewide testing.\\nState\\n  \n",
       "18  $385 million to the unemployment trust fund tr...  \n",
       "19      $5 million to the health department.\\nState\\n  \n",
       "20  $50 million for colleges and universities.\\nState  "
      ]
     },
     "execution_count": 269,
     "metadata": {},
     "output_type": "execute_result"
    }
   ],
   "source": [
    "df"
   ]
  },
  {
   "cell_type": "code",
   "execution_count": 254,
   "metadata": {},
   "outputs": [],
   "source": [
    "scroll_bar = driver.find_element(By.XPATH, \"//div[@class='scroll-bar-div']\")\n"
   ]
  },
  {
   "cell_type": "code",
   "execution_count": 270,
   "metadata": {},
   "outputs": [],
   "source": [
    "driver.execute_script(\"arguments[0].scrollTop = arguments[0].scrollHeight;\", scroll_bar)"
   ]
  },
  {
   "cell_type": "code",
   "execution_count": 261,
   "metadata": {},
   "outputs": [
    {
     "ename": "ElementNotInteractableException",
     "evalue": "Message: element not interactable\n  (Session info: chrome=113.0.5672.126)\nStacktrace:\n0   chromedriver                        0x00000001010838ac chromedriver + 4257964\n1   chromedriver                        0x000000010107bf40 chromedriver + 4226880\n2   chromedriver                        0x0000000100cb8854 chromedriver + 280660\n3   chromedriver                        0x0000000100cedd78 chromedriver + 499064\n4   chromedriver                        0x0000000100ced498 chromedriver + 496792\n5   chromedriver                        0x0000000100ce91cc chromedriver + 479692\n6   chromedriver                        0x0000000100d2a7e4 chromedriver + 747492\n7   chromedriver                        0x0000000100ce798c chromedriver + 473484\n8   chromedriver                        0x0000000100ce898c chromedriver + 477580\n9   chromedriver                        0x0000000101042900 chromedriver + 3991808\n10  chromedriver                        0x0000000101046354 chromedriver + 4006740\n11  chromedriver                        0x0000000101046940 chromedriver + 4008256\n12  chromedriver                        0x000000010104c33c chromedriver + 4031292\n13  chromedriver                        0x0000000101046f34 chromedriver + 4009780\n14  chromedriver                        0x000000010101f490 chromedriver + 3847312\n15  chromedriver                        0x00000001010649f4 chromedriver + 4131316\n16  chromedriver                        0x0000000101064b4c chromedriver + 4131660\n17  chromedriver                        0x0000000101075230 chromedriver + 4198960\n18  libsystem_pthread.dylib             0x00000001a8a6606c _pthread_start + 148\n19  libsystem_pthread.dylib             0x00000001a8a60e2c thread_start + 8\n",
     "output_type": "error",
     "traceback": [
      "\u001b[0;31m---------------------------------------------------------------------------\u001b[0m",
      "\u001b[0;31mElementNotInteractableException\u001b[0m           Traceback (most recent call last)",
      "\u001b[0;32m<ipython-input-261-a191d3e987b8>\u001b[0m in \u001b[0;36m<module>\u001b[0;34m\u001b[0m\n\u001b[0;32m----> 1\u001b[0;31m \u001b[0mscroll_bar\u001b[0m\u001b[0;34m.\u001b[0m\u001b[0msend_keys\u001b[0m\u001b[0;34m(\u001b[0m\u001b[0mKeys\u001b[0m\u001b[0;34m.\u001b[0m\u001b[0mEND\u001b[0m\u001b[0;34m)\u001b[0m\u001b[0;34m\u001b[0m\u001b[0;34m\u001b[0m\u001b[0m\n\u001b[0m",
      "\u001b[0;32m/opt/anaconda3/lib/python3.7/site-packages/selenium/webdriver/remote/webelement.py\u001b[0m in \u001b[0;36msend_keys\u001b[0;34m(self, *value)\u001b[0m\n\u001b[1;32m    230\u001b[0m \u001b[0;34m\u001b[0m\u001b[0m\n\u001b[1;32m    231\u001b[0m         self._execute(\n\u001b[0;32m--> 232\u001b[0;31m             \u001b[0mCommand\u001b[0m\u001b[0;34m.\u001b[0m\u001b[0mSEND_KEYS_TO_ELEMENT\u001b[0m\u001b[0;34m,\u001b[0m \u001b[0;34m{\u001b[0m\u001b[0;34m\"text\"\u001b[0m\u001b[0;34m:\u001b[0m \u001b[0;34m\"\"\u001b[0m\u001b[0;34m.\u001b[0m\u001b[0mjoin\u001b[0m\u001b[0;34m(\u001b[0m\u001b[0mkeys_to_typing\u001b[0m\u001b[0;34m(\u001b[0m\u001b[0mvalue\u001b[0m\u001b[0;34m)\u001b[0m\u001b[0;34m)\u001b[0m\u001b[0;34m,\u001b[0m \u001b[0;34m\"value\"\u001b[0m\u001b[0;34m:\u001b[0m \u001b[0mkeys_to_typing\u001b[0m\u001b[0;34m(\u001b[0m\u001b[0mvalue\u001b[0m\u001b[0;34m)\u001b[0m\u001b[0;34m}\u001b[0m\u001b[0;34m\u001b[0m\u001b[0;34m\u001b[0m\u001b[0m\n\u001b[0m\u001b[1;32m    233\u001b[0m         )\n\u001b[1;32m    234\u001b[0m \u001b[0;34m\u001b[0m\u001b[0m\n",
      "\u001b[0;32m/opt/anaconda3/lib/python3.7/site-packages/selenium/webdriver/remote/webelement.py\u001b[0m in \u001b[0;36m_execute\u001b[0;34m(self, command, params)\u001b[0m\n\u001b[1;32m    401\u001b[0m             \u001b[0mparams\u001b[0m \u001b[0;34m=\u001b[0m \u001b[0;34m{\u001b[0m\u001b[0;34m}\u001b[0m\u001b[0;34m\u001b[0m\u001b[0;34m\u001b[0m\u001b[0m\n\u001b[1;32m    402\u001b[0m         \u001b[0mparams\u001b[0m\u001b[0;34m[\u001b[0m\u001b[0;34m\"id\"\u001b[0m\u001b[0;34m]\u001b[0m \u001b[0;34m=\u001b[0m \u001b[0mself\u001b[0m\u001b[0;34m.\u001b[0m\u001b[0m_id\u001b[0m\u001b[0;34m\u001b[0m\u001b[0;34m\u001b[0m\u001b[0m\n\u001b[0;32m--> 403\u001b[0;31m         \u001b[0;32mreturn\u001b[0m \u001b[0mself\u001b[0m\u001b[0;34m.\u001b[0m\u001b[0m_parent\u001b[0m\u001b[0;34m.\u001b[0m\u001b[0mexecute\u001b[0m\u001b[0;34m(\u001b[0m\u001b[0mcommand\u001b[0m\u001b[0;34m,\u001b[0m \u001b[0mparams\u001b[0m\u001b[0;34m)\u001b[0m\u001b[0;34m\u001b[0m\u001b[0;34m\u001b[0m\u001b[0m\n\u001b[0m\u001b[1;32m    404\u001b[0m \u001b[0;34m\u001b[0m\u001b[0m\n\u001b[1;32m    405\u001b[0m     \u001b[0;32mdef\u001b[0m \u001b[0mfind_element\u001b[0m\u001b[0;34m(\u001b[0m\u001b[0mself\u001b[0m\u001b[0;34m,\u001b[0m \u001b[0mby\u001b[0m\u001b[0;34m=\u001b[0m\u001b[0mBy\u001b[0m\u001b[0;34m.\u001b[0m\u001b[0mID\u001b[0m\u001b[0;34m,\u001b[0m \u001b[0mvalue\u001b[0m\u001b[0;34m=\u001b[0m\u001b[0;32mNone\u001b[0m\u001b[0;34m)\u001b[0m \u001b[0;34m->\u001b[0m \u001b[0mWebElement\u001b[0m\u001b[0;34m:\u001b[0m\u001b[0;34m\u001b[0m\u001b[0;34m\u001b[0m\u001b[0m\n",
      "\u001b[0;32m/opt/anaconda3/lib/python3.7/site-packages/selenium/webdriver/remote/webdriver.py\u001b[0m in \u001b[0;36mexecute\u001b[0;34m(self, driver_command, params)\u001b[0m\n\u001b[1;32m    438\u001b[0m         \u001b[0mresponse\u001b[0m \u001b[0;34m=\u001b[0m \u001b[0mself\u001b[0m\u001b[0;34m.\u001b[0m\u001b[0mcommand_executor\u001b[0m\u001b[0;34m.\u001b[0m\u001b[0mexecute\u001b[0m\u001b[0;34m(\u001b[0m\u001b[0mdriver_command\u001b[0m\u001b[0;34m,\u001b[0m \u001b[0mparams\u001b[0m\u001b[0;34m)\u001b[0m\u001b[0;34m\u001b[0m\u001b[0;34m\u001b[0m\u001b[0m\n\u001b[1;32m    439\u001b[0m         \u001b[0;32mif\u001b[0m \u001b[0mresponse\u001b[0m\u001b[0;34m:\u001b[0m\u001b[0;34m\u001b[0m\u001b[0;34m\u001b[0m\u001b[0m\n\u001b[0;32m--> 440\u001b[0;31m             \u001b[0mself\u001b[0m\u001b[0;34m.\u001b[0m\u001b[0merror_handler\u001b[0m\u001b[0;34m.\u001b[0m\u001b[0mcheck_response\u001b[0m\u001b[0;34m(\u001b[0m\u001b[0mresponse\u001b[0m\u001b[0;34m)\u001b[0m\u001b[0;34m\u001b[0m\u001b[0;34m\u001b[0m\u001b[0m\n\u001b[0m\u001b[1;32m    441\u001b[0m             \u001b[0mresponse\u001b[0m\u001b[0;34m[\u001b[0m\u001b[0;34m\"value\"\u001b[0m\u001b[0;34m]\u001b[0m \u001b[0;34m=\u001b[0m \u001b[0mself\u001b[0m\u001b[0;34m.\u001b[0m\u001b[0m_unwrap_value\u001b[0m\u001b[0;34m(\u001b[0m\u001b[0mresponse\u001b[0m\u001b[0;34m.\u001b[0m\u001b[0mget\u001b[0m\u001b[0;34m(\u001b[0m\u001b[0;34m\"value\"\u001b[0m\u001b[0;34m,\u001b[0m \u001b[0;32mNone\u001b[0m\u001b[0;34m)\u001b[0m\u001b[0;34m)\u001b[0m\u001b[0;34m\u001b[0m\u001b[0;34m\u001b[0m\u001b[0m\n\u001b[1;32m    442\u001b[0m             \u001b[0;32mreturn\u001b[0m \u001b[0mresponse\u001b[0m\u001b[0;34m\u001b[0m\u001b[0;34m\u001b[0m\u001b[0m\n",
      "\u001b[0;32m/opt/anaconda3/lib/python3.7/site-packages/selenium/webdriver/remote/errorhandler.py\u001b[0m in \u001b[0;36mcheck_response\u001b[0;34m(self, response)\u001b[0m\n\u001b[1;32m    243\u001b[0m                 \u001b[0malert_text\u001b[0m \u001b[0;34m=\u001b[0m \u001b[0mvalue\u001b[0m\u001b[0;34m[\u001b[0m\u001b[0;34m\"alert\"\u001b[0m\u001b[0;34m]\u001b[0m\u001b[0;34m.\u001b[0m\u001b[0mget\u001b[0m\u001b[0;34m(\u001b[0m\u001b[0;34m\"text\"\u001b[0m\u001b[0;34m)\u001b[0m\u001b[0;34m\u001b[0m\u001b[0;34m\u001b[0m\u001b[0m\n\u001b[1;32m    244\u001b[0m             \u001b[0;32mraise\u001b[0m \u001b[0mexception_class\u001b[0m\u001b[0;34m(\u001b[0m\u001b[0mmessage\u001b[0m\u001b[0;34m,\u001b[0m \u001b[0mscreen\u001b[0m\u001b[0;34m,\u001b[0m \u001b[0mstacktrace\u001b[0m\u001b[0;34m,\u001b[0m \u001b[0malert_text\u001b[0m\u001b[0;34m)\u001b[0m  \u001b[0;31m# type: ignore[call-arg]  # mypy is not smart enough here\u001b[0m\u001b[0;34m\u001b[0m\u001b[0;34m\u001b[0m\u001b[0m\n\u001b[0;32m--> 245\u001b[0;31m         \u001b[0;32mraise\u001b[0m \u001b[0mexception_class\u001b[0m\u001b[0;34m(\u001b[0m\u001b[0mmessage\u001b[0m\u001b[0;34m,\u001b[0m \u001b[0mscreen\u001b[0m\u001b[0;34m,\u001b[0m \u001b[0mstacktrace\u001b[0m\u001b[0;34m)\u001b[0m\u001b[0;34m\u001b[0m\u001b[0;34m\u001b[0m\u001b[0m\n\u001b[0m",
      "\u001b[0;31mElementNotInteractableException\u001b[0m: Message: element not interactable\n  (Session info: chrome=113.0.5672.126)\nStacktrace:\n0   chromedriver                        0x00000001010838ac chromedriver + 4257964\n1   chromedriver                        0x000000010107bf40 chromedriver + 4226880\n2   chromedriver                        0x0000000100cb8854 chromedriver + 280660\n3   chromedriver                        0x0000000100cedd78 chromedriver + 499064\n4   chromedriver                        0x0000000100ced498 chromedriver + 496792\n5   chromedriver                        0x0000000100ce91cc chromedriver + 479692\n6   chromedriver                        0x0000000100d2a7e4 chromedriver + 747492\n7   chromedriver                        0x0000000100ce798c chromedriver + 473484\n8   chromedriver                        0x0000000100ce898c chromedriver + 477580\n9   chromedriver                        0x0000000101042900 chromedriver + 3991808\n10  chromedriver                        0x0000000101046354 chromedriver + 4006740\n11  chromedriver                        0x0000000101046940 chromedriver + 4008256\n12  chromedriver                        0x000000010104c33c chromedriver + 4031292\n13  chromedriver                        0x0000000101046f34 chromedriver + 4009780\n14  chromedriver                        0x000000010101f490 chromedriver + 3847312\n15  chromedriver                        0x00000001010649f4 chromedriver + 4131316\n16  chromedriver                        0x0000000101064b4c chromedriver + 4131660\n17  chromedriver                        0x0000000101075230 chromedriver + 4198960\n18  libsystem_pthread.dylib             0x00000001a8a6606c _pthread_start + 148\n19  libsystem_pthread.dylib             0x00000001a8a60e2c thread_start + 8\n"
     ]
    }
   ],
   "source": [
    "scroll_bar.send_keys(Keys.END)"
   ]
  },
  {
   "cell_type": "code",
   "execution_count": 239,
   "metadata": {},
   "outputs": [],
   "source": [
    "actions.move_to_element(scroll_button[0]).click().perform()"
   ]
  },
  {
   "cell_type": "code",
   "execution_count": 240,
   "metadata": {},
   "outputs": [],
   "source": [
    "grid_holder_1 = driver.find_elements(By.XPATH, \"//div[@role='grid']\")"
   ]
  },
  {
   "cell_type": "code",
   "execution_count": 243,
   "metadata": {},
   "outputs": [],
   "source": [
    "df_2 = pd.DataFrame([x.split('\\n', 3) for x in grid_holder_1[0].text.split('Select Row')])"
   ]
  },
  {
   "cell_type": "code",
   "execution_count": 244,
   "metadata": {},
   "outputs": [
    {
     "data": {
      "text/html": [
       "<div>\n",
       "<style scoped>\n",
       "    .dataframe tbody tr th:only-of-type {\n",
       "        vertical-align: middle;\n",
       "    }\n",
       "\n",
       "    .dataframe tbody tr th {\n",
       "        vertical-align: top;\n",
       "    }\n",
       "\n",
       "    .dataframe thead th {\n",
       "        text-align: right;\n",
       "    }\n",
       "</style>\n",
       "<table border=\"1\" class=\"dataframe\">\n",
       "  <thead>\n",
       "    <tr style=\"text-align: right;\">\n",
       "      <th></th>\n",
       "      <th>0</th>\n",
       "      <th>1</th>\n",
       "      <th>2</th>\n",
       "      <th>3</th>\n",
       "    </tr>\n",
       "  </thead>\n",
       "  <tbody>\n",
       "    <tr>\n",
       "      <td>0</td>\n",
       "      <td>Row Selection</td>\n",
       "      <td>Category</td>\n",
       "      <td>State</td>\n",
       "      <td>Description\\nSource\\n</td>\n",
       "    </tr>\n",
       "    <tr>\n",
       "      <td>1</td>\n",
       "      <td></td>\n",
       "      <td>Small Business Relief</td>\n",
       "      <td>Alabama</td>\n",
       "      <td>$206 million for Revive Plus, a grant program ...</td>\n",
       "    </tr>\n",
       "    <tr>\n",
       "      <td>2</td>\n",
       "      <td></td>\n",
       "      <td>Health</td>\n",
       "      <td>Alabama</td>\n",
       "      <td>$1.2 million UAB Post-Acute Care Program.\\nSta...</td>\n",
       "    </tr>\n",
       "    <tr>\n",
       "      <td>3</td>\n",
       "      <td></td>\n",
       "      <td>Corrections/Courts/Judiciary</td>\n",
       "      <td>Alabama</td>\n",
       "      <td>$10 million to courts.\\nState\\n</td>\n",
       "    </tr>\n",
       "    <tr>\n",
       "      <td>4</td>\n",
       "      <td></td>\n",
       "      <td>Health</td>\n",
       "      <td>Alabama</td>\n",
       "      <td>$10.3 million for healthcare costs.\\nState\\n</td>\n",
       "    </tr>\n",
       "    <tr>\n",
       "      <td>5</td>\n",
       "      <td></td>\n",
       "      <td>Health</td>\n",
       "      <td>Alabama</td>\n",
       "      <td>$10.6 PPE Production Expansion.\\nState\\n</td>\n",
       "    </tr>\n",
       "    <tr>\n",
       "      <td>6</td>\n",
       "      <td></td>\n",
       "      <td>Technology/Broadband</td>\n",
       "      <td>Alabama</td>\n",
       "      <td>$100 million for educational remote learning d...</td>\n",
       "    </tr>\n",
       "    <tr>\n",
       "      <td>7</td>\n",
       "      <td></td>\n",
       "      <td>Community/Human Services</td>\n",
       "      <td>Alabama</td>\n",
       "      <td>$13.3 million to faith-based organizations.\\nS...</td>\n",
       "    </tr>\n",
       "    <tr>\n",
       "      <td>8</td>\n",
       "      <td></td>\n",
       "      <td>Higher Education</td>\n",
       "      <td>Alabama</td>\n",
       "      <td>$16 million for public universities remote ins...</td>\n",
       "    </tr>\n",
       "    <tr>\n",
       "      <td>9</td>\n",
       "      <td></td>\n",
       "      <td>Health</td>\n",
       "      <td>Alabama</td>\n",
       "      <td>$16 million for the Medical Provider Program.\\...</td>\n",
       "    </tr>\n",
       "    <tr>\n",
       "      <td>10</td>\n",
       "      <td></td>\n",
       "      <td>Small Business Relief</td>\n",
       "      <td>Alabama</td>\n",
       "      <td>$17.5 million to an Agribusiness Stabilization...</td>\n",
       "    </tr>\n",
       "    <tr>\n",
       "      <td>11</td>\n",
       "      <td></td>\n",
       "      <td>Local Government</td>\n",
       "      <td>Alabama</td>\n",
       "      <td>$178 million to counties and municipalities fo...</td>\n",
       "    </tr>\n",
       "    <tr>\n",
       "      <td>12</td>\n",
       "      <td></td>\n",
       "      <td>Community/Human Services</td>\n",
       "      <td>Alabama</td>\n",
       "      <td>$18.4 million to non-profits.\\nState\\n</td>\n",
       "    </tr>\n",
       "    <tr>\n",
       "      <td>13</td>\n",
       "      <td></td>\n",
       "      <td>Other</td>\n",
       "      <td>Alabama</td>\n",
       "      <td>$2.5 million for the Timber Owners Program.\\nS...</td>\n",
       "    </tr>\n",
       "    <tr>\n",
       "      <td>14</td>\n",
       "      <td></td>\n",
       "      <td>Higher Education</td>\n",
       "      <td>Alabama</td>\n",
       "      <td>$20 million for the Independent Colleges Progr...</td>\n",
       "    </tr>\n",
       "    <tr>\n",
       "      <td>15</td>\n",
       "      <td></td>\n",
       "      <td>Higher Education</td>\n",
       "      <td>Alabama</td>\n",
       "      <td>$27.3 million for community colleges remote in...</td>\n",
       "    </tr>\n",
       "    <tr>\n",
       "      <td>16</td>\n",
       "      <td></td>\n",
       "      <td>Community/Human Services</td>\n",
       "      <td>Alabama</td>\n",
       "      <td>$3.6 million for the Alabama Food Banks Progra...</td>\n",
       "    </tr>\n",
       "    <tr>\n",
       "      <td>17</td>\n",
       "      <td></td>\n",
       "      <td>Health</td>\n",
       "      <td>Alabama</td>\n",
       "      <td>$37 million to statewide testing.\\nState\\n</td>\n",
       "    </tr>\n",
       "    <tr>\n",
       "      <td>18</td>\n",
       "      <td></td>\n",
       "      <td>Unemployment/Workforce Development</td>\n",
       "      <td>Alabama</td>\n",
       "      <td>$385 million to the unemployment trust fund tr...</td>\n",
       "    </tr>\n",
       "    <tr>\n",
       "      <td>19</td>\n",
       "      <td></td>\n",
       "      <td>Health</td>\n",
       "      <td>Alabama</td>\n",
       "      <td>$5 million to the health department.\\nState\\n</td>\n",
       "    </tr>\n",
       "    <tr>\n",
       "      <td>20</td>\n",
       "      <td></td>\n",
       "      <td>Higher Education</td>\n",
       "      <td>Alabama</td>\n",
       "      <td>$50 million for colleges and universities.\\nState</td>\n",
       "    </tr>\n",
       "  </tbody>\n",
       "</table>\n",
       "</div>"
      ],
      "text/plain": [
       "                0                                   1        2  \\\n",
       "0   Row Selection                            Category    State   \n",
       "1                               Small Business Relief  Alabama   \n",
       "2                                              Health  Alabama   \n",
       "3                        Corrections/Courts/Judiciary  Alabama   \n",
       "4                                              Health  Alabama   \n",
       "5                                              Health  Alabama   \n",
       "6                                Technology/Broadband  Alabama   \n",
       "7                            Community/Human Services  Alabama   \n",
       "8                                    Higher Education  Alabama   \n",
       "9                                              Health  Alabama   \n",
       "10                              Small Business Relief  Alabama   \n",
       "11                                   Local Government  Alabama   \n",
       "12                           Community/Human Services  Alabama   \n",
       "13                                              Other  Alabama   \n",
       "14                                   Higher Education  Alabama   \n",
       "15                                   Higher Education  Alabama   \n",
       "16                           Community/Human Services  Alabama   \n",
       "17                                             Health  Alabama   \n",
       "18                 Unemployment/Workforce Development  Alabama   \n",
       "19                                             Health  Alabama   \n",
       "20                                   Higher Education  Alabama   \n",
       "\n",
       "                                                    3  \n",
       "0                               Description\\nSource\\n  \n",
       "1   $206 million for Revive Plus, a grant program ...  \n",
       "2   $1.2 million UAB Post-Acute Care Program.\\nSta...  \n",
       "3                     $10 million to courts.\\nState\\n  \n",
       "4        $10.3 million for healthcare costs.\\nState\\n  \n",
       "5            $10.6 PPE Production Expansion.\\nState\\n  \n",
       "6   $100 million for educational remote learning d...  \n",
       "7   $13.3 million to faith-based organizations.\\nS...  \n",
       "8   $16 million for public universities remote ins...  \n",
       "9   $16 million for the Medical Provider Program.\\...  \n",
       "10  $17.5 million to an Agribusiness Stabilization...  \n",
       "11  $178 million to counties and municipalities fo...  \n",
       "12             $18.4 million to non-profits.\\nState\\n  \n",
       "13  $2.5 million for the Timber Owners Program.\\nS...  \n",
       "14  $20 million for the Independent Colleges Progr...  \n",
       "15  $27.3 million for community colleges remote in...  \n",
       "16  $3.6 million for the Alabama Food Banks Progra...  \n",
       "17         $37 million to statewide testing.\\nState\\n  \n",
       "18  $385 million to the unemployment trust fund tr...  \n",
       "19      $5 million to the health department.\\nState\\n  \n",
       "20  $50 million for colleges and universities.\\nState  "
      ]
     },
     "execution_count": 244,
     "metadata": {},
     "output_type": "execute_result"
    }
   ],
   "source": [
    "df_2"
   ]
  },
  {
   "cell_type": "code",
   "execution_count": 133,
   "metadata": {},
   "outputs": [
    {
     "name": "stdout",
     "output_type": "stream",
     "text": [
      "0\n"
     ]
    }
   ],
   "source": [
    "l = driver.find_elements(By.TAG_NAME, \"visual-modern\")\n",
    "# to get the row count len method\n",
    "print (len(l))"
   ]
  },
  {
   "cell_type": "code",
   "execution_count": 366,
   "metadata": {},
   "outputs": [
    {
     "data": {
      "text/plain": [
       "861"
      ]
     },
     "execution_count": 366,
     "metadata": {},
     "output_type": "execute_result"
    }
   ],
   "source": [
    "41*21"
   ]
  },
  {
   "cell_type": "code",
   "execution_count": 382,
   "metadata": {},
   "outputs": [],
   "source": [
    "driver.execute_script(\"window.scrollBy(0, 100)\")"
   ]
  },
  {
   "cell_type": "code",
   "execution_count": 394,
   "metadata": {},
   "outputs": [
    {
     "data": {
      "text/plain": [
       "<selenium.webdriver.remote.webelement.WebElement (session=\"a65acb62688b7aa1799c10bcc999d251\", element=\"558DBE7AD3994E5AAB4EC28CAA8F318E_element_39\")>"
      ]
     },
     "execution_count": 394,
     "metadata": {},
     "output_type": "execute_result"
    }
   ],
   "source": [
    "grid_holder[1]"
   ]
  },
  {
   "cell_type": "code",
   "execution_count": 398,
   "metadata": {},
   "outputs": [],
   "source": [
    "actions.move_to_element(grid_holder[1]).click().scroll_by_amount(0, 410).perform()"
   ]
  },
  {
   "cell_type": "code",
   "execution_count": 206,
   "metadata": {},
   "outputs": [],
   "source": []
  },
  {
   "cell_type": "code",
   "execution_count": 344,
   "metadata": {},
   "outputs": [
    {
     "data": {
      "text/plain": [
       "<bound method ActionChains.perform of <selenium.webdriver.common.action_chains.ActionChains object at 0x7f8cd0bbd750>>"
      ]
     },
     "execution_count": 344,
     "metadata": {},
     "output_type": "execute_result"
    }
   ],
   "source": [
    "actions.scroll_to_element(bleh2[20]).perform"
   ]
  },
  {
   "cell_type": "code",
   "execution_count": 348,
   "metadata": {},
   "outputs": [
    {
     "data": {
      "text/plain": [
       "{'x': 121, 'y': 701}"
      ]
     },
     "execution_count": 348,
     "metadata": {},
     "output_type": "execute_result"
    }
   ],
   "source": [
    "bleh2[20].location"
   ]
  },
  {
   "cell_type": "code",
   "execution_count": 341,
   "metadata": {},
   "outputs": [
    {
     "data": {
      "text/plain": [
       "'21'"
      ]
     },
     "execution_count": 341,
     "metadata": {},
     "output_type": "execute_result"
    }
   ],
   "source": [
    "bleh2[20].get_attribute(\"aria-rowindex\")"
   ]
  },
  {
   "cell_type": "code",
   "execution_count": 339,
   "metadata": {},
   "outputs": [
    {
     "data": {
      "text/plain": [
       "'2'"
      ]
     },
     "execution_count": 339,
     "metadata": {},
     "output_type": "execute_result"
    }
   ],
   "source": [
    "blah"
   ]
  },
  {
   "cell_type": "code",
   "execution_count": 351,
   "metadata": {},
   "outputs": [],
   "source": [
    "bleh1 = driver.find_elements(By.XPATH, \"//div[@class='mid-viewport']\")\n",
    "bleh2 = driver.find_elements(By.XPATH, \"//div[@role='row']\")"
   ]
  },
  {
   "cell_type": "code",
   "execution_count": 343,
   "metadata": {},
   "outputs": [
    {
     "data": {
      "text/plain": [
       "21"
      ]
     },
     "execution_count": 343,
     "metadata": {},
     "output_type": "execute_result"
    }
   ],
   "source": [
    "driver.find_elements(By.XPATH, \"//div[@role='row']\")[]"
   ]
  },
  {
   "cell_type": "code",
   "execution_count": 352,
   "metadata": {},
   "outputs": [
    {
     "data": {
      "text/plain": [
       "'Select Row\\nSmall Business Relief\\nAlabama\\n$206 million for Revive Plus, a grant program for small businesses, non-profits, and faith-based organizations. Revive Plus is the second wave of funding for these organizations with 50 or fewer employees and will award grants of up to $20,000 for expenses they have incurred due to operational interruptions caused by the pandemic and related business closures.\\nState\\nSelect Row\\nHealth\\nAlabama\\n$1.2 million UAB Post-Acute Care Program.\\nState\\nSelect Row\\nCorrections/Courts/Judiciary\\nAlabama\\n$10 million to courts.\\nState\\nSelect Row\\nHealth\\nAlabama\\n$10.3 million for healthcare costs.\\nState\\nSelect Row\\nHealth\\nAlabama\\n$10.6 PPE Production Expansion.\\nState\\nSelect Row\\nTechnology/Broadband\\nAlabama\\n$100 million for educational remote learning devices.\\nState\\nSelect Row\\nCommunity/Human Services\\nAlabama\\n$13.3 million to faith-based organizations.\\nState\\nSelect Row\\nHigher Education\\nAlabama\\n$16 million for public universities remote instruction and learning program.\\nState\\nSelect Row\\nHealth\\nAlabama\\n$16 million for the Medical Provider Program.\\nState\\nSelect Row\\nSmall Business Relief\\nAlabama\\n$17.5 million to an Agribusiness Stabilization Grant Program\\nState\\nSelect Row\\nLocal Government\\nAlabama\\n$178 million to counties and municipalities for cleaning and sanitation, payroll, purchasing PPE, telework expenses, and workplace safety preparations.\\nState\\nSelect Row\\nCommunity/Human Services\\nAlabama\\n$18.4 million to non-profits.\\nState\\nSelect Row\\nOther\\nAlabama\\n$2.5 million for the Timber Owners Program.\\nState\\nSelect Row\\nHigher Education\\nAlabama\\n$20 million for the Independent Colleges Program.\\nState\\nSelect Row\\nHigher Education\\nAlabama\\n$27.3 million for community colleges remote instruction and learning program.\\nState\\nSelect Row\\nCommunity/Human Services\\nAlabama\\n$3.6 million for the Alabama Food Banks Program.\\nState\\nSelect Row\\nHealth\\nAlabama\\n$37 million to statewide testing.\\nState\\nSelect Row\\nUnemployment/Workforce Development\\nAlabama\\n$385 million to the unemployment trust fund transfer program.\\nState\\nSelect Row\\nHealth\\nAlabama\\n$5 million to the health department.\\nState\\nSelect Row\\nHigher Education\\nAlabama\\n$50 million for colleges and universities.\\nState'"
      ]
     },
     "execution_count": 352,
     "metadata": {},
     "output_type": "execute_result"
    }
   ],
   "source": [
    "bleh1[0].text"
   ]
  },
  {
   "cell_type": "code",
   "execution_count": 289,
   "metadata": {},
   "outputs": [
    {
     "data": {
      "text/plain": [
       "'Select Row\\nSmall Business Relief\\nAlabama\\n$206 million for Revive Plus, a grant program for small businesses, non-profits, and faith-based organizations. Revive Plus is the second wave of funding for these organizations with 50 or fewer employees and will award grants of up to $20,000 for expenses they have incurred due to operational interruptions caused by the pandemic and related business closures.\\nState'"
      ]
     },
     "execution_count": 289,
     "metadata": {},
     "output_type": "execute_result"
    }
   ],
   "source": [
    "grid_holder[1].text"
   ]
  },
  {
   "cell_type": "code",
   "execution_count": 219,
   "metadata": {},
   "outputs": [
    {
     "name": "stdout",
     "output_type": "stream",
     "text": [
      "Scroll down\n"
     ]
    }
   ],
   "source": [
    "for i in b: \n",
    "    print(i.text)"
   ]
  },
  {
   "cell_type": "code",
   "execution_count": 207,
   "metadata": {},
   "outputs": [
    {
     "data": {
      "text/plain": [
       "'Category\\nState\\n Description\\nSource\\nHealth\\nAlabama\\n$50 million to hospitals.\\nState\\nTechnology/Broadband\\nAlabama\\n$50.3 million to a broadband voucher program.\\nState\\nHealth\\nAlabama\\n$6 million for a mental health provider program.\\nState\\nHealth\\nAlabama\\n$62.5 million for a nursing home program.\\nState\\nOther\\nAlabama\\n$7.3 million for a tourism marketing recovery program.\\nState\\nK-12 Education\\nAlabama\\n$70 million for education health and wellness.\\nState\\nCommunity/Human Services\\nAlabama\\n$757,000 for the Alabama AHEC Program.\\nState\\nCorrections/Courts/Judiciary\\nAlabama\\n$79 million for corrections.\\nState\\nK-12 Education\\nAlabama\\n$901,800 for the Pre-K Virtual Learning Program\\nState\\nSmall Business Relief\\nAlabama\\n$96.6 million to small business relief.\\nState\\nOther\\nAlabama\\nApproximately $10 million for state equipment.\\nState\\nHealth\\nAlabama\\nApproximately $18.3 million for nursing home testing\\nState\\nOther\\nAlabama\\nApproximately $212 million to state agencies.\\nState\\nTechnology/Broadband\\nAlaska\\n$1 million Department Laptops for Telework.\\nState\\nK-12 Education\\nAlaska\\n$1 million in Grant Funding for Private Schools.\\nState\\nHealth\\nAlaska\\n$1.3 million Blood Bank of America ‐ COVID.\\nState\\nOther\\nAlaska\\n$1.3 million LAW COVID‐19 Commodities & Payroll Reimbursement.\\nState\\nK-12 Education\\nAlaska\\n$1.5 million Distance Learning Platform.\\nState\\nHealth\\nAlaska\\n$1.5 million DOTPF AMHS COVID‐19 Testing and Supplies.\\nState\\nOther\\nAlaska\\n$1.6 million DBH COVID Quarantine Response.\\nState'"
      ]
     },
     "execution_count": 207,
     "metadata": {},
     "output_type": "execute_result"
    }
   ],
   "source": [
    "b[0].text"
   ]
  },
  {
   "cell_type": "code",
   "execution_count": 200,
   "metadata": {},
   "outputs": [
    {
     "data": {
      "text/plain": [
       "'501'"
      ]
     },
     "execution_count": 200,
     "metadata": {},
     "output_type": "execute_result"
    }
   ],
   "source": [
    "b[0].get_attribute(\"aria-rowcount\")"
   ]
  },
  {
   "cell_type": "code",
   "execution_count": 201,
   "metadata": {},
   "outputs": [],
   "source": [
    "test = b[0].text"
   ]
  },
  {
   "cell_type": "code",
   "execution_count": 205,
   "metadata": {},
   "outputs": [
    {
     "data": {
      "text/plain": [
       "'Category\\nState\\n Description\\nSource\\nOther\\nAlabama\\n$7.3 million for a tourism marketing recovery program.\\nState\\nK-12 Education\\nAlabama\\n$70 million for education health and wellness.\\nState\\nCommunity/Human Services\\nAlabama\\n$757,000 for the Alabama AHEC Program.\\nState\\nCorrections/Courts/Judiciary\\nAlabama\\n$79 million for corrections.\\nState\\nK-12 Education\\nAlabama\\n$901,800 for the Pre-K Virtual Learning Program\\nState\\nSmall Business Relief\\nAlabama\\n$96.6 million to small business relief.\\nState\\nOther\\nAlabama\\nApproximately $10 million for state equipment.\\nState\\nHealth\\nAlabama\\nApproximately $18.3 million for nursing home testing\\nState\\nOther\\nAlabama\\nApproximately $212 million to state agencies.\\nState\\nTechnology/Broadband\\nAlaska\\n$1 million Department Laptops for Telework.\\nState\\nK-12 Education\\nAlaska\\n$1 million in Grant Funding for Private Schools.\\nState\\nHealth\\nAlaska\\n$1.3 million Blood Bank of America ‐ COVID.\\nState\\nOther\\nAlaska\\n$1.3 million LAW COVID‐19 Commodities & Payroll Reimbursement.\\nState\\nK-12 Education\\nAlaska\\n$1.5 million Distance Learning Platform.\\nState\\nHealth\\nAlaska\\n$1.5 million DOTPF AMHS COVID‐19 Testing and Supplies.\\nState\\nOther\\nAlaska\\n$1.6 million DBH COVID Quarantine Response.\\nState\\nOther\\nAlaska\\n$1.65 million PPE Purchase for Fishing Industry and Others\\nState\\nOther\\nAlaska\\n$1.7 million DPS FY21 Supplemental COVID‐19 Costs\\nState\\nOther\\nAlaska\\n$1.8 million DPS CRF King Air Engine Replacement.\\nState\\nHealth\\nAlaska\\n$1.9 million Medical Equipment and Supplies.\\nState'"
      ]
     },
     "execution_count": 205,
     "metadata": {},
     "output_type": "execute_result"
    }
   ],
   "source": [
    "test"
   ]
  },
  {
   "cell_type": "code",
   "execution_count": 202,
   "metadata": {},
   "outputs": [],
   "source": [
    "df = pd.DataFrame([x.split('\\n', 3) for x in test.split('Select Row')])"
   ]
  },
  {
   "cell_type": "code",
   "execution_count": 203,
   "metadata": {},
   "outputs": [
    {
     "data": {
      "text/plain": [
       "(1, 4)"
      ]
     },
     "execution_count": 203,
     "metadata": {},
     "output_type": "execute_result"
    }
   ],
   "source": [
    "df.shape"
   ]
  },
  {
   "cell_type": "code",
   "execution_count": 204,
   "metadata": {},
   "outputs": [
    {
     "data": {
      "text/html": [
       "<div>\n",
       "<style scoped>\n",
       "    .dataframe tbody tr th:only-of-type {\n",
       "        vertical-align: middle;\n",
       "    }\n",
       "\n",
       "    .dataframe tbody tr th {\n",
       "        vertical-align: top;\n",
       "    }\n",
       "\n",
       "    .dataframe thead th {\n",
       "        text-align: right;\n",
       "    }\n",
       "</style>\n",
       "<table border=\"1\" class=\"dataframe\">\n",
       "  <thead>\n",
       "    <tr style=\"text-align: right;\">\n",
       "      <th></th>\n",
       "      <th>0</th>\n",
       "      <th>1</th>\n",
       "      <th>2</th>\n",
       "      <th>3</th>\n",
       "    </tr>\n",
       "  </thead>\n",
       "  <tbody>\n",
       "    <tr>\n",
       "      <td>0</td>\n",
       "      <td>Category</td>\n",
       "      <td>State</td>\n",
       "      <td>Description</td>\n",
       "      <td>Source\\nOther\\nAlabama\\n$7.3 million for a tou...</td>\n",
       "    </tr>\n",
       "  </tbody>\n",
       "</table>\n",
       "</div>"
      ],
      "text/plain": [
       "          0      1             2  \\\n",
       "0  Category  State   Description   \n",
       "\n",
       "                                                   3  \n",
       "0  Source\\nOther\\nAlabama\\n$7.3 million for a tou...  "
      ]
     },
     "execution_count": 204,
     "metadata": {},
     "output_type": "execute_result"
    }
   ],
   "source": [
    "df"
   ]
  },
  {
   "cell_type": "code",
   "execution_count": 188,
   "metadata": {},
   "outputs": [],
   "source": [
    "# Split the string into a list of rows.\n",
    "rows = test.split('Select Row')"
   ]
  },
  {
   "cell_type": "code",
   "execution_count": 196,
   "metadata": {},
   "outputs": [
    {
     "data": {
      "text/plain": [
       "'\\nHigher Education\\nAlabama\\n$16 million for public universities remote instruction and learning program.\\nState\\n'"
      ]
     },
     "execution_count": 196,
     "metadata": {},
     "output_type": "execute_result"
    }
   ],
   "source": [
    "rows[8]"
   ]
  },
  {
   "cell_type": "code",
   "execution_count": 124,
   "metadata": {},
   "outputs": [],
   "source": [
    "# Split the string into a list of rows.\n",
    "\n",
    "# Convert each row into a list of columns.\n",
    "columns = [row.split(',', 2) for row in rows]\n",
    "\n"
   ]
  },
  {
   "cell_type": "code",
   "execution_count": 125,
   "metadata": {},
   "outputs": [
    {
     "data": {
      "text/plain": [
       "['Community/Human Services',\n",
       " ' Colorado',\n",
       " ' $22 million to the Colorado Department of Human services (CDHS) for expenditures incurred to respond to second-order effects of the COVID-19 emergency, specifically for increased caseload due to the COVID-19-related recession., State']"
      ]
     },
     "execution_count": 125,
     "metadata": {},
     "output_type": "execute_result"
    }
   ],
   "source": [
    "columns[7]"
   ]
  },
  {
   "cell_type": "code",
   "execution_count": 127,
   "metadata": {},
   "outputs": [],
   "source": []
  },
  {
   "cell_type": "code",
   "execution_count": 129,
   "metadata": {},
   "outputs": [
    {
     "data": {
      "text/html": [
       "<div>\n",
       "<style scoped>\n",
       "    .dataframe tbody tr th:only-of-type {\n",
       "        vertical-align: middle;\n",
       "    }\n",
       "\n",
       "    .dataframe tbody tr th {\n",
       "        vertical-align: top;\n",
       "    }\n",
       "\n",
       "    .dataframe thead th {\n",
       "        text-align: right;\n",
       "    }\n",
       "</style>\n",
       "<table border=\"1\" class=\"dataframe\">\n",
       "  <thead>\n",
       "    <tr style=\"text-align: right;\">\n",
       "      <th></th>\n",
       "      <th>0</th>\n",
       "      <th>1</th>\n",
       "      <th>2</th>\n",
       "    </tr>\n",
       "  </thead>\n",
       "  <tbody>\n",
       "    <tr>\n",
       "      <td>0</td>\n",
       "      <td>Category</td>\n",
       "      <td>State</td>\n",
       "      <td>Description, Source</td>\n",
       "    </tr>\n",
       "    <tr>\n",
       "      <td>1</td>\n",
       "      <td>Small Business Relief</td>\n",
       "      <td>Michigan</td>\n",
       "      <td>$1 million for agriculture and rural developm...</td>\n",
       "    </tr>\n",
       "    <tr>\n",
       "      <td>2</td>\n",
       "      <td>Health</td>\n",
       "      <td>South Carolina</td>\n",
       "      <td>$125 million to the hospital relief fund., Le...</td>\n",
       "    </tr>\n",
       "    <tr>\n",
       "      <td>3</td>\n",
       "      <td>Housing Assistance</td>\n",
       "      <td>Wisconsin</td>\n",
       "      <td>$15 million to be invested in Wisconsin’s Low...</td>\n",
       "    </tr>\n",
       "    <tr>\n",
       "      <td>4</td>\n",
       "      <td>K-12 Education</td>\n",
       "      <td>Connecticut</td>\n",
       "      <td>$164.5 million to facilitate the safe reopeni...</td>\n",
       "    </tr>\n",
       "    <tr>\n",
       "      <td>5</td>\n",
       "      <td>Housing Assistance</td>\n",
       "      <td>Mississippi</td>\n",
       "      <td>$20 million for the Rental Assistance Grant P...</td>\n",
       "    </tr>\n",
       "    <tr>\n",
       "      <td>6</td>\n",
       "      <td>Small Business Relief</td>\n",
       "      <td>Alabama</td>\n",
       "      <td>$206 million for Revive Plus, a grant program...</td>\n",
       "    </tr>\n",
       "    <tr>\n",
       "      <td>7</td>\n",
       "      <td>Community/Human Services</td>\n",
       "      <td>Colorado</td>\n",
       "      <td>$22 million to the Colorado Department of Hum...</td>\n",
       "    </tr>\n",
       "    <tr>\n",
       "      <td>8</td>\n",
       "      <td>Other</td>\n",
       "      <td>Indiana</td>\n",
       "      <td>$4 million to the Indiana Department of Agric...</td>\n",
       "    </tr>\n",
       "    <tr>\n",
       "      <td>9</td>\n",
       "      <td>Unemployment/Workforce Development</td>\n",
       "      <td>Indiana</td>\n",
       "      <td>$400 million in remaining federal pandemic ai...</td>\n",
       "    </tr>\n",
       "    <tr>\n",
       "      <td>10</td>\n",
       "      <td>Community/Human Services</td>\n",
       "      <td>New Jersey</td>\n",
       "      <td>$690,000 to the Department of Children and Fa...</td>\n",
       "    </tr>\n",
       "    <tr>\n",
       "      <td>11</td>\n",
       "      <td>Local Government</td>\n",
       "      <td>Tennessee</td>\n",
       "      <td>$115 million in Coronavirus Relief Funds wil...</td>\n",
       "    </tr>\n",
       "    <tr>\n",
       "      <td>12</td>\n",
       "      <td>K-12 Education</td>\n",
       "      <td>Utah</td>\n",
       "      <td>$19 million to the State Board of Education ...</td>\n",
       "    </tr>\n",
       "    <tr>\n",
       "      <td>13</td>\n",
       "      <td>K-12 Education</td>\n",
       "      <td>Massachusetts</td>\n",
       "      <td>$3 million in funding the Department of Earl...</td>\n",
       "    </tr>\n",
       "    <tr>\n",
       "      <td>14</td>\n",
       "      <td>Small Business Relief</td>\n",
       "      <td>Rhode Island</td>\n",
       "      <td>The RI State Council on the Arts (RISCA) has...</td>\n",
       "    </tr>\n",
       "    <tr>\n",
       "      <td>15</td>\n",
       "      <td>Technology/Broadband</td>\n",
       "      <td>Alaska</td>\n",
       "      <td>$1 million Department Laptops for Telework., ...</td>\n",
       "    </tr>\n",
       "    <tr>\n",
       "      <td>16</td>\n",
       "      <td>Other</td>\n",
       "      <td>Oregon</td>\n",
       "      <td>$1 million for 211 to maintain referral servi...</td>\n",
       "    </tr>\n",
       "    <tr>\n",
       "      <td>17</td>\n",
       "      <td>Small Business Relief</td>\n",
       "      <td>Utah</td>\n",
       "      <td>$1 million for a Stay Safe to Stay Open campa...</td>\n",
       "    </tr>\n",
       "    <tr>\n",
       "      <td>18</td>\n",
       "      <td>Unemployment/Workforce Development</td>\n",
       "      <td>Utah</td>\n",
       "      <td>$1 million for additional job training and re...</td>\n",
       "    </tr>\n",
       "    <tr>\n",
       "      <td>19</td>\n",
       "      <td>Other</td>\n",
       "      <td>Vermont</td>\n",
       "      <td>$1 million for Agency of Agriculture Food and...</td>\n",
       "    </tr>\n",
       "    <tr>\n",
       "      <td>20</td>\n",
       "      <td>Other</td>\n",
       "      <td>Mississippi</td>\n",
       "      <td>$1 million for elections, Media</td>\n",
       "    </tr>\n",
       "  </tbody>\n",
       "</table>\n",
       "</div>"
      ],
      "text/plain": [
       "                                     0                1  \\\n",
       "0                             Category            State   \n",
       "1                Small Business Relief         Michigan   \n",
       "2                               Health   South Carolina   \n",
       "3                   Housing Assistance        Wisconsin   \n",
       "4                       K-12 Education      Connecticut   \n",
       "5                   Housing Assistance      Mississippi   \n",
       "6                Small Business Relief          Alabama   \n",
       "7             Community/Human Services         Colorado   \n",
       "8                                Other          Indiana   \n",
       "9   Unemployment/Workforce Development          Indiana   \n",
       "10            Community/Human Services       New Jersey   \n",
       "11                    Local Government        Tennessee   \n",
       "12                      K-12 Education             Utah   \n",
       "13                      K-12 Education    Massachusetts   \n",
       "14               Small Business Relief     Rhode Island   \n",
       "15                Technology/Broadband           Alaska   \n",
       "16                               Other           Oregon   \n",
       "17               Small Business Relief             Utah   \n",
       "18  Unemployment/Workforce Development             Utah   \n",
       "19                               Other          Vermont   \n",
       "20                               Other      Mississippi   \n",
       "\n",
       "                                                    2  \n",
       "0                                 Description, Source  \n",
       "1    $1 million for agriculture and rural developm...  \n",
       "2    $125 million to the hospital relief fund., Le...  \n",
       "3    $15 million to be invested in Wisconsin’s Low...  \n",
       "4    $164.5 million to facilitate the safe reopeni...  \n",
       "5    $20 million for the Rental Assistance Grant P...  \n",
       "6    $206 million for Revive Plus, a grant program...  \n",
       "7    $22 million to the Colorado Department of Hum...  \n",
       "8    $4 million to the Indiana Department of Agric...  \n",
       "9    $400 million in remaining federal pandemic ai...  \n",
       "10   $690,000 to the Department of Children and Fa...  \n",
       "11    $115 million in Coronavirus Relief Funds wil...  \n",
       "12    $19 million to the State Board of Education ...  \n",
       "13    $3 million in funding the Department of Earl...  \n",
       "14    The RI State Council on the Arts (RISCA) has...  \n",
       "15   $1 million Department Laptops for Telework., ...  \n",
       "16   $1 million for 211 to maintain referral servi...  \n",
       "17   $1 million for a Stay Safe to Stay Open campa...  \n",
       "18   $1 million for additional job training and re...  \n",
       "19   $1 million for Agency of Agriculture Food and...  \n",
       "20                    $1 million for elections, Media  "
      ]
     },
     "execution_count": 129,
     "metadata": {},
     "output_type": "execute_result"
    }
   ],
   "source": [
    "df"
   ]
  },
  {
   "cell_type": "code",
   "execution_count": 130,
   "metadata": {},
   "outputs": [
    {
     "data": {
      "text/plain": [
       "'Category, State, Description, Source\\n  Small Business Relief, Michigan, $1 million for agriculture and rural development., Legislation\\nHealth, South Carolina, $125 million to the hospital relief fund., Legislation\\nHousing Assistance, Wisconsin, $15 million to be invested in Wisconsin’s Low Income Home Energy Assistance Program (LIHEAP), a program that is currently federally-funded and helps Wisconsinites with their heating costs., Governor\\nK-12 Education, Connecticut, $164.5 million to facilitate the safe reopening of schools in the Fall and to support the academic success of all students. The funds will support bridging the technology gap, providing quality academic supports for all students, and implementing public health best practices to keep students and staff safe., State\\nHousing Assistance, Mississippi, $20 million for the Rental Assistance Grant Program. Provides grants up to $30,000 to eligible rental businesses that lost rental income from March, 1 2020, through December 30, 2020., State\\nSmall Business Relief, Alabama, $206 million for Revive Plus, a grant program for small businesses, non-profits, and faith-based organizations. Revive Plus is the second wave of funding for these organizations with 50 or fewer employees and will award grants of up to $20,000 for expenses they have incurred due to operational interruptions caused by the pandemic and related business closures., State\\nCommunity/Human Services, Colorado, $22 million to the Colorado Department of Human services (CDHS) for expenditures incurred to respond to second-order effects of the COVID-19 emergency, specifically for increased caseload due to the COVID-19-related recession., State\\nOther, Indiana, $4 million to the Indiana Department of Agriculture for a meat processing grant program., State\\nUnemployment/Workforce Development, Indiana, $400 million in remaining federal pandemic aid to cover a federal unemployment loan to keep the unemployment trust fund solvent., Media\\nCommunity/Human Services, New Jersey, $690,000 to the Department of Children and Families for costs for providing additional foster care support for individuals aging out of the system but with no employment due to COVID-19 restrictions., State\\nLocal Government, Tennessee,  $115 million in Coronavirus Relief Funds will be made available to local governments to offset costs incurred from responding to the COVID-19 pandemic thought a reimbursement program on a per capita basis., Governor\\nK-12 Education, Utah,  $19 million to the State Board of Education for classroom supplies, enhancements and equipment. $3.9 million of the $19.0 million coronavirus relief funding distributed to the Board to pay for personal protective equipment and other allowable expenses for schools., Legislation\\nK-12 Education, Massachusetts,  $3 million in funding the Department of Early Education and Care (EEC) provided in April to support the residential education school system., Governor\\nSmall Business Relief, Rhode Island,  The RI State Council on the Arts (RISCA) has awarded close to $1 million in Covid Relief Funds (CRF) to artists, professional arts education associations, and arts and culture organizations. These grants announced today provide badly needed assistance to organizations, artists and arts educators who continue to experience economic hardship as a result of the COVID-19 pandemic., State\\nTechnology/Broadband, Alaska, $1 million Department Laptops for Telework., State\\nOther, Oregon, $1 million for 211 to maintain referral services during the pandemic., Legislation\\nSmall Business Relief, Utah, $1 million for a Stay Safe to Stay Open campaign. A s a statewide campaign to meet the critical imperatives of helping Utah address the health-related objectives to prevent and recover from the coronavirus while at the same time assisting the business community in an effort to appropriately strengthen our state’s economy., Legislation\\nUnemployment/Workforce Development, Utah, $1 million for additional job training and re-training through Utah State University and the Utah Industrial Alliance., Legislation\\nOther, Vermont, $1 million for Agency of Agriculture Food and Markets for Working Lands, Legislation\\nOther, Mississippi, $1 million for elections, Media'"
      ]
     },
     "execution_count": 130,
     "metadata": {},
     "output_type": "execute_result"
    }
   ],
   "source": [
    "test"
   ]
  },
  {
   "cell_type": "code",
   "execution_count": 59,
   "metadata": {},
   "outputs": [
    {
     "ename": "InvalidSelectorException",
     "evalue": "Message: invalid selector: An invalid or illegal selector was specified\n  (Session info: chrome=113.0.5672.126)\nStacktrace:\n0   chromedriver                        0x0000000102c9b8ac chromedriver + 4257964\n1   chromedriver                        0x0000000102c93f40 chromedriver + 4226880\n2   chromedriver                        0x00000001028d09d4 chromedriver + 281044\n3   chromedriver                        0x00000001028d5200 chromedriver + 299520\n4   chromedriver                        0x00000001028d6b34 chromedriver + 305972\n5   chromedriver                        0x00000001028d6c24 chromedriver + 306212\n6   chromedriver                        0x000000010290b718 chromedriver + 522008\n7   chromedriver                        0x00000001029427e4 chromedriver + 747492\n8   chromedriver                        0x00000001028ff98c chromedriver + 473484\n9   chromedriver                        0x000000010290098c chromedriver + 477580\n10  chromedriver                        0x0000000102c5a900 chromedriver + 3991808\n11  chromedriver                        0x0000000102c5e354 chromedriver + 4006740\n12  chromedriver                        0x0000000102c5e940 chromedriver + 4008256\n13  chromedriver                        0x0000000102c6433c chromedriver + 4031292\n14  chromedriver                        0x0000000102c5ef34 chromedriver + 4009780\n15  chromedriver                        0x0000000102c37490 chromedriver + 3847312\n16  chromedriver                        0x0000000102c7c9f4 chromedriver + 4131316\n17  chromedriver                        0x0000000102c7cb4c chromedriver + 4131660\n18  chromedriver                        0x0000000102c8d230 chromedriver + 4198960\n19  libsystem_pthread.dylib             0x00000001a8a6606c _pthread_start + 148\n20  libsystem_pthread.dylib             0x00000001a8a60e2c thread_start + 8\n",
     "output_type": "error",
     "traceback": [
      "\u001b[0;31m---------------------------------------------------------------------------\u001b[0m",
      "\u001b[0;31mInvalidSelectorException\u001b[0m                  Traceback (most recent call last)",
      "\u001b[0;32m<ipython-input-59-70fbca72c646>\u001b[0m in \u001b[0;36m<module>\u001b[0;34m\u001b[0m\n\u001b[0;32m----> 1\u001b[0;31m \u001b[0mb\u001b[0m \u001b[0;34m=\u001b[0m \u001b[0mdriver\u001b[0m\u001b[0;34m.\u001b[0m\u001b[0mfind_element\u001b[0m\u001b[0;34m(\u001b[0m\u001b[0mBy\u001b[0m\u001b[0;34m.\u001b[0m\u001b[0mCSS_SELECTOR\u001b[0m\u001b[0;34m,\u001b[0m \u001b[0;34m'[aria-label=“Focus mode”]'\u001b[0m\u001b[0;34m)\u001b[0m\u001b[0;34m\u001b[0m\u001b[0;34m\u001b[0m\u001b[0m\n\u001b[0m\u001b[1;32m      2\u001b[0m \u001b[0;31m# to get the row count len method\u001b[0m\u001b[0;34m\u001b[0m\u001b[0;34m\u001b[0m\u001b[0;34m\u001b[0m\u001b[0m\n\u001b[1;32m      3\u001b[0m \u001b[0mprint\u001b[0m \u001b[0;34m(\u001b[0m\u001b[0mlen\u001b[0m\u001b[0;34m(\u001b[0m\u001b[0mb\u001b[0m\u001b[0;34m)\u001b[0m\u001b[0;34m)\u001b[0m\u001b[0;34m\u001b[0m\u001b[0;34m\u001b[0m\u001b[0m\n\u001b[1;32m      4\u001b[0m \u001b[0;34m\u001b[0m\u001b[0m\n",
      "\u001b[0;32m/opt/anaconda3/lib/python3.7/site-packages/selenium/webdriver/remote/webdriver.py\u001b[0m in \u001b[0;36mfind_element\u001b[0;34m(self, by, value)\u001b[0m\n\u001b[1;32m    829\u001b[0m             \u001b[0mvalue\u001b[0m \u001b[0;34m=\u001b[0m \u001b[0;34mf'[name=\"{value}\"]'\u001b[0m\u001b[0;34m\u001b[0m\u001b[0;34m\u001b[0m\u001b[0m\n\u001b[1;32m    830\u001b[0m \u001b[0;34m\u001b[0m\u001b[0m\n\u001b[0;32m--> 831\u001b[0;31m         \u001b[0;32mreturn\u001b[0m \u001b[0mself\u001b[0m\u001b[0;34m.\u001b[0m\u001b[0mexecute\u001b[0m\u001b[0;34m(\u001b[0m\u001b[0mCommand\u001b[0m\u001b[0;34m.\u001b[0m\u001b[0mFIND_ELEMENT\u001b[0m\u001b[0;34m,\u001b[0m \u001b[0;34m{\u001b[0m\u001b[0;34m\"using\"\u001b[0m\u001b[0;34m:\u001b[0m \u001b[0mby\u001b[0m\u001b[0;34m,\u001b[0m \u001b[0;34m\"value\"\u001b[0m\u001b[0;34m:\u001b[0m \u001b[0mvalue\u001b[0m\u001b[0;34m}\u001b[0m\u001b[0;34m)\u001b[0m\u001b[0;34m[\u001b[0m\u001b[0;34m\"value\"\u001b[0m\u001b[0;34m]\u001b[0m\u001b[0;34m\u001b[0m\u001b[0;34m\u001b[0m\u001b[0m\n\u001b[0m\u001b[1;32m    832\u001b[0m \u001b[0;34m\u001b[0m\u001b[0m\n\u001b[1;32m    833\u001b[0m     \u001b[0;32mdef\u001b[0m \u001b[0mfind_elements\u001b[0m\u001b[0;34m(\u001b[0m\u001b[0mself\u001b[0m\u001b[0;34m,\u001b[0m \u001b[0mby\u001b[0m\u001b[0;34m=\u001b[0m\u001b[0mBy\u001b[0m\u001b[0;34m.\u001b[0m\u001b[0mID\u001b[0m\u001b[0;34m,\u001b[0m \u001b[0mvalue\u001b[0m\u001b[0;34m:\u001b[0m \u001b[0mOptional\u001b[0m\u001b[0;34m[\u001b[0m\u001b[0mstr\u001b[0m\u001b[0;34m]\u001b[0m \u001b[0;34m=\u001b[0m \u001b[0;32mNone\u001b[0m\u001b[0;34m)\u001b[0m \u001b[0;34m->\u001b[0m \u001b[0mList\u001b[0m\u001b[0;34m[\u001b[0m\u001b[0mWebElement\u001b[0m\u001b[0;34m]\u001b[0m\u001b[0;34m:\u001b[0m\u001b[0;34m\u001b[0m\u001b[0;34m\u001b[0m\u001b[0m\n",
      "\u001b[0;32m/opt/anaconda3/lib/python3.7/site-packages/selenium/webdriver/remote/webdriver.py\u001b[0m in \u001b[0;36mexecute\u001b[0;34m(self, driver_command, params)\u001b[0m\n\u001b[1;32m    438\u001b[0m         \u001b[0mresponse\u001b[0m \u001b[0;34m=\u001b[0m \u001b[0mself\u001b[0m\u001b[0;34m.\u001b[0m\u001b[0mcommand_executor\u001b[0m\u001b[0;34m.\u001b[0m\u001b[0mexecute\u001b[0m\u001b[0;34m(\u001b[0m\u001b[0mdriver_command\u001b[0m\u001b[0;34m,\u001b[0m \u001b[0mparams\u001b[0m\u001b[0;34m)\u001b[0m\u001b[0;34m\u001b[0m\u001b[0;34m\u001b[0m\u001b[0m\n\u001b[1;32m    439\u001b[0m         \u001b[0;32mif\u001b[0m \u001b[0mresponse\u001b[0m\u001b[0;34m:\u001b[0m\u001b[0;34m\u001b[0m\u001b[0;34m\u001b[0m\u001b[0m\n\u001b[0;32m--> 440\u001b[0;31m             \u001b[0mself\u001b[0m\u001b[0;34m.\u001b[0m\u001b[0merror_handler\u001b[0m\u001b[0;34m.\u001b[0m\u001b[0mcheck_response\u001b[0m\u001b[0;34m(\u001b[0m\u001b[0mresponse\u001b[0m\u001b[0;34m)\u001b[0m\u001b[0;34m\u001b[0m\u001b[0;34m\u001b[0m\u001b[0m\n\u001b[0m\u001b[1;32m    441\u001b[0m             \u001b[0mresponse\u001b[0m\u001b[0;34m[\u001b[0m\u001b[0;34m\"value\"\u001b[0m\u001b[0;34m]\u001b[0m \u001b[0;34m=\u001b[0m \u001b[0mself\u001b[0m\u001b[0;34m.\u001b[0m\u001b[0m_unwrap_value\u001b[0m\u001b[0;34m(\u001b[0m\u001b[0mresponse\u001b[0m\u001b[0;34m.\u001b[0m\u001b[0mget\u001b[0m\u001b[0;34m(\u001b[0m\u001b[0;34m\"value\"\u001b[0m\u001b[0;34m,\u001b[0m \u001b[0;32mNone\u001b[0m\u001b[0;34m)\u001b[0m\u001b[0;34m)\u001b[0m\u001b[0;34m\u001b[0m\u001b[0;34m\u001b[0m\u001b[0m\n\u001b[1;32m    442\u001b[0m             \u001b[0;32mreturn\u001b[0m \u001b[0mresponse\u001b[0m\u001b[0;34m\u001b[0m\u001b[0;34m\u001b[0m\u001b[0m\n",
      "\u001b[0;32m/opt/anaconda3/lib/python3.7/site-packages/selenium/webdriver/remote/errorhandler.py\u001b[0m in \u001b[0;36mcheck_response\u001b[0;34m(self, response)\u001b[0m\n\u001b[1;32m    243\u001b[0m                 \u001b[0malert_text\u001b[0m \u001b[0;34m=\u001b[0m \u001b[0mvalue\u001b[0m\u001b[0;34m[\u001b[0m\u001b[0;34m\"alert\"\u001b[0m\u001b[0;34m]\u001b[0m\u001b[0;34m.\u001b[0m\u001b[0mget\u001b[0m\u001b[0;34m(\u001b[0m\u001b[0;34m\"text\"\u001b[0m\u001b[0;34m)\u001b[0m\u001b[0;34m\u001b[0m\u001b[0;34m\u001b[0m\u001b[0m\n\u001b[1;32m    244\u001b[0m             \u001b[0;32mraise\u001b[0m \u001b[0mexception_class\u001b[0m\u001b[0;34m(\u001b[0m\u001b[0mmessage\u001b[0m\u001b[0;34m,\u001b[0m \u001b[0mscreen\u001b[0m\u001b[0;34m,\u001b[0m \u001b[0mstacktrace\u001b[0m\u001b[0;34m,\u001b[0m \u001b[0malert_text\u001b[0m\u001b[0;34m)\u001b[0m  \u001b[0;31m# type: ignore[call-arg]  # mypy is not smart enough here\u001b[0m\u001b[0;34m\u001b[0m\u001b[0;34m\u001b[0m\u001b[0m\n\u001b[0;32m--> 245\u001b[0;31m         \u001b[0;32mraise\u001b[0m \u001b[0mexception_class\u001b[0m\u001b[0;34m(\u001b[0m\u001b[0mmessage\u001b[0m\u001b[0;34m,\u001b[0m \u001b[0mscreen\u001b[0m\u001b[0;34m,\u001b[0m \u001b[0mstacktrace\u001b[0m\u001b[0;34m)\u001b[0m\u001b[0;34m\u001b[0m\u001b[0;34m\u001b[0m\u001b[0m\n\u001b[0m",
      "\u001b[0;31mInvalidSelectorException\u001b[0m: Message: invalid selector: An invalid or illegal selector was specified\n  (Session info: chrome=113.0.5672.126)\nStacktrace:\n0   chromedriver                        0x0000000102c9b8ac chromedriver + 4257964\n1   chromedriver                        0x0000000102c93f40 chromedriver + 4226880\n2   chromedriver                        0x00000001028d09d4 chromedriver + 281044\n3   chromedriver                        0x00000001028d5200 chromedriver + 299520\n4   chromedriver                        0x00000001028d6b34 chromedriver + 305972\n5   chromedriver                        0x00000001028d6c24 chromedriver + 306212\n6   chromedriver                        0x000000010290b718 chromedriver + 522008\n7   chromedriver                        0x00000001029427e4 chromedriver + 747492\n8   chromedriver                        0x00000001028ff98c chromedriver + 473484\n9   chromedriver                        0x000000010290098c chromedriver + 477580\n10  chromedriver                        0x0000000102c5a900 chromedriver + 3991808\n11  chromedriver                        0x0000000102c5e354 chromedriver + 4006740\n12  chromedriver                        0x0000000102c5e940 chromedriver + 4008256\n13  chromedriver                        0x0000000102c6433c chromedriver + 4031292\n14  chromedriver                        0x0000000102c5ef34 chromedriver + 4009780\n15  chromedriver                        0x0000000102c37490 chromedriver + 3847312\n16  chromedriver                        0x0000000102c7c9f4 chromedriver + 4131316\n17  chromedriver                        0x0000000102c7cb4c chromedriver + 4131660\n18  chromedriver                        0x0000000102c8d230 chromedriver + 4198960\n19  libsystem_pthread.dylib             0x00000001a8a6606c _pthread_start + 148\n20  libsystem_pthread.dylib             0x00000001a8a60e2c thread_start + 8\n"
     ]
    }
   ],
   "source": [
    "b = driver.find_element(By.CSS_SELECTOR, '[aria-label=“Focus mode”]') \n",
    "# to get the row count len method\n",
    "print (len(b))\n",
    "\n"
   ]
  },
  {
   "cell_type": "code",
   "execution_count": 37,
   "metadata": {},
   "outputs": [
    {
     "data": {
      "text/plain": [
       "<selenium.webdriver.remote.webelement.WebElement (session=\"884e6dd0a253664bc66805bf8cc0acb2\", element=\"8E31AC977D729652D0441ED2D11B8653_element_370\")>"
      ]
     },
     "execution_count": 37,
     "metadata": {},
     "output_type": "execute_result"
    }
   ],
   "source": [
    "l[5]"
   ]
  },
  {
   "cell_type": "code",
   "execution_count": 49,
   "metadata": {},
   "outputs": [
    {
     "data": {
      "text/plain": [
       "''"
      ]
     },
     "execution_count": 49,
     "metadata": {},
     "output_type": "execute_result"
    }
   ],
   "source": [
    "b[8].text"
   ]
  },
  {
   "cell_type": "code",
   "execution_count": 5,
   "metadata": {},
   "outputs": [
    {
     "ename": "NoSuchElementException",
     "evalue": "Message: no such element: Unable to locate element: {\"method\":\"css selector\",\"selector\":\"[id=\"focus-mode-button\"]\"}\n  (Session info: chrome=113.0.5672.126)\nStacktrace:\n0   chromedriver                        0x0000000104a3b8ac chromedriver + 4257964\n1   chromedriver                        0x0000000104a33f40 chromedriver + 4226880\n2   chromedriver                        0x00000001046709d4 chromedriver + 281044\n3   chromedriver                        0x00000001046aba34 chromedriver + 522804\n4   chromedriver                        0x00000001046e27e4 chromedriver + 747492\n5   chromedriver                        0x000000010469f98c chromedriver + 473484\n6   chromedriver                        0x00000001046a098c chromedriver + 477580\n7   chromedriver                        0x00000001049fa900 chromedriver + 3991808\n8   chromedriver                        0x00000001049fe354 chromedriver + 4006740\n9   chromedriver                        0x00000001049fe940 chromedriver + 4008256\n10  chromedriver                        0x0000000104a0433c chromedriver + 4031292\n11  chromedriver                        0x00000001049fef34 chromedriver + 4009780\n12  chromedriver                        0x00000001049d7490 chromedriver + 3847312\n13  chromedriver                        0x0000000104a1c9f4 chromedriver + 4131316\n14  chromedriver                        0x0000000104a1cb4c chromedriver + 4131660\n15  chromedriver                        0x0000000104a2d230 chromedriver + 4198960\n16  libsystem_pthread.dylib             0x00000001a8a6606c _pthread_start + 148\n17  libsystem_pthread.dylib             0x00000001a8a60e2c thread_start + 8\n",
     "output_type": "error",
     "traceback": [
      "\u001b[0;31m---------------------------------------------------------------------------\u001b[0m",
      "\u001b[0;31mNoSuchElementException\u001b[0m                    Traceback (most recent call last)",
      "\u001b[0;32m<ipython-input-5-d3b8611472ad>\u001b[0m in \u001b[0;36m<module>\u001b[0;34m\u001b[0m\n\u001b[0;32m----> 1\u001b[0;31m \u001b[0mdriver\u001b[0m\u001b[0;34m.\u001b[0m\u001b[0mfind_element\u001b[0m\u001b[0;34m(\u001b[0m\u001b[0mBy\u001b[0m\u001b[0;34m.\u001b[0m\u001b[0mID\u001b[0m\u001b[0;34m,\u001b[0m \u001b[0;34m'focus-mode-button'\u001b[0m\u001b[0;34m)\u001b[0m\u001b[0;34m.\u001b[0m\u001b[0mclick\u001b[0m\u001b[0;34m(\u001b[0m\u001b[0;34m)\u001b[0m\u001b[0;34m\u001b[0m\u001b[0;34m\u001b[0m\u001b[0m\n\u001b[0m",
      "\u001b[0;32m/opt/anaconda3/lib/python3.7/site-packages/selenium/webdriver/remote/webdriver.py\u001b[0m in \u001b[0;36mfind_element\u001b[0;34m(self, by, value)\u001b[0m\n\u001b[1;32m    829\u001b[0m             \u001b[0mvalue\u001b[0m \u001b[0;34m=\u001b[0m \u001b[0;34mf'[name=\"{value}\"]'\u001b[0m\u001b[0;34m\u001b[0m\u001b[0;34m\u001b[0m\u001b[0m\n\u001b[1;32m    830\u001b[0m \u001b[0;34m\u001b[0m\u001b[0m\n\u001b[0;32m--> 831\u001b[0;31m         \u001b[0;32mreturn\u001b[0m \u001b[0mself\u001b[0m\u001b[0;34m.\u001b[0m\u001b[0mexecute\u001b[0m\u001b[0;34m(\u001b[0m\u001b[0mCommand\u001b[0m\u001b[0;34m.\u001b[0m\u001b[0mFIND_ELEMENT\u001b[0m\u001b[0;34m,\u001b[0m \u001b[0;34m{\u001b[0m\u001b[0;34m\"using\"\u001b[0m\u001b[0;34m:\u001b[0m \u001b[0mby\u001b[0m\u001b[0;34m,\u001b[0m \u001b[0;34m\"value\"\u001b[0m\u001b[0;34m:\u001b[0m \u001b[0mvalue\u001b[0m\u001b[0;34m}\u001b[0m\u001b[0;34m)\u001b[0m\u001b[0;34m[\u001b[0m\u001b[0;34m\"value\"\u001b[0m\u001b[0;34m]\u001b[0m\u001b[0;34m\u001b[0m\u001b[0;34m\u001b[0m\u001b[0m\n\u001b[0m\u001b[1;32m    832\u001b[0m \u001b[0;34m\u001b[0m\u001b[0m\n\u001b[1;32m    833\u001b[0m     \u001b[0;32mdef\u001b[0m \u001b[0mfind_elements\u001b[0m\u001b[0;34m(\u001b[0m\u001b[0mself\u001b[0m\u001b[0;34m,\u001b[0m \u001b[0mby\u001b[0m\u001b[0;34m=\u001b[0m\u001b[0mBy\u001b[0m\u001b[0;34m.\u001b[0m\u001b[0mID\u001b[0m\u001b[0;34m,\u001b[0m \u001b[0mvalue\u001b[0m\u001b[0;34m:\u001b[0m \u001b[0mOptional\u001b[0m\u001b[0;34m[\u001b[0m\u001b[0mstr\u001b[0m\u001b[0;34m]\u001b[0m \u001b[0;34m=\u001b[0m \u001b[0;32mNone\u001b[0m\u001b[0;34m)\u001b[0m \u001b[0;34m->\u001b[0m \u001b[0mList\u001b[0m\u001b[0;34m[\u001b[0m\u001b[0mWebElement\u001b[0m\u001b[0;34m]\u001b[0m\u001b[0;34m:\u001b[0m\u001b[0;34m\u001b[0m\u001b[0;34m\u001b[0m\u001b[0m\n",
      "\u001b[0;32m/opt/anaconda3/lib/python3.7/site-packages/selenium/webdriver/remote/webdriver.py\u001b[0m in \u001b[0;36mexecute\u001b[0;34m(self, driver_command, params)\u001b[0m\n\u001b[1;32m    438\u001b[0m         \u001b[0mresponse\u001b[0m \u001b[0;34m=\u001b[0m \u001b[0mself\u001b[0m\u001b[0;34m.\u001b[0m\u001b[0mcommand_executor\u001b[0m\u001b[0;34m.\u001b[0m\u001b[0mexecute\u001b[0m\u001b[0;34m(\u001b[0m\u001b[0mdriver_command\u001b[0m\u001b[0;34m,\u001b[0m \u001b[0mparams\u001b[0m\u001b[0;34m)\u001b[0m\u001b[0;34m\u001b[0m\u001b[0;34m\u001b[0m\u001b[0m\n\u001b[1;32m    439\u001b[0m         \u001b[0;32mif\u001b[0m \u001b[0mresponse\u001b[0m\u001b[0;34m:\u001b[0m\u001b[0;34m\u001b[0m\u001b[0;34m\u001b[0m\u001b[0m\n\u001b[0;32m--> 440\u001b[0;31m             \u001b[0mself\u001b[0m\u001b[0;34m.\u001b[0m\u001b[0merror_handler\u001b[0m\u001b[0;34m.\u001b[0m\u001b[0mcheck_response\u001b[0m\u001b[0;34m(\u001b[0m\u001b[0mresponse\u001b[0m\u001b[0;34m)\u001b[0m\u001b[0;34m\u001b[0m\u001b[0;34m\u001b[0m\u001b[0m\n\u001b[0m\u001b[1;32m    441\u001b[0m             \u001b[0mresponse\u001b[0m\u001b[0;34m[\u001b[0m\u001b[0;34m\"value\"\u001b[0m\u001b[0;34m]\u001b[0m \u001b[0;34m=\u001b[0m \u001b[0mself\u001b[0m\u001b[0;34m.\u001b[0m\u001b[0m_unwrap_value\u001b[0m\u001b[0;34m(\u001b[0m\u001b[0mresponse\u001b[0m\u001b[0;34m.\u001b[0m\u001b[0mget\u001b[0m\u001b[0;34m(\u001b[0m\u001b[0;34m\"value\"\u001b[0m\u001b[0;34m,\u001b[0m \u001b[0;32mNone\u001b[0m\u001b[0;34m)\u001b[0m\u001b[0;34m)\u001b[0m\u001b[0;34m\u001b[0m\u001b[0;34m\u001b[0m\u001b[0m\n\u001b[1;32m    442\u001b[0m             \u001b[0;32mreturn\u001b[0m \u001b[0mresponse\u001b[0m\u001b[0;34m\u001b[0m\u001b[0;34m\u001b[0m\u001b[0m\n",
      "\u001b[0;32m/opt/anaconda3/lib/python3.7/site-packages/selenium/webdriver/remote/errorhandler.py\u001b[0m in \u001b[0;36mcheck_response\u001b[0;34m(self, response)\u001b[0m\n\u001b[1;32m    243\u001b[0m                 \u001b[0malert_text\u001b[0m \u001b[0;34m=\u001b[0m \u001b[0mvalue\u001b[0m\u001b[0;34m[\u001b[0m\u001b[0;34m\"alert\"\u001b[0m\u001b[0;34m]\u001b[0m\u001b[0;34m.\u001b[0m\u001b[0mget\u001b[0m\u001b[0;34m(\u001b[0m\u001b[0;34m\"text\"\u001b[0m\u001b[0;34m)\u001b[0m\u001b[0;34m\u001b[0m\u001b[0;34m\u001b[0m\u001b[0m\n\u001b[1;32m    244\u001b[0m             \u001b[0;32mraise\u001b[0m \u001b[0mexception_class\u001b[0m\u001b[0;34m(\u001b[0m\u001b[0mmessage\u001b[0m\u001b[0;34m,\u001b[0m \u001b[0mscreen\u001b[0m\u001b[0;34m,\u001b[0m \u001b[0mstacktrace\u001b[0m\u001b[0;34m,\u001b[0m \u001b[0malert_text\u001b[0m\u001b[0;34m)\u001b[0m  \u001b[0;31m# type: ignore[call-arg]  # mypy is not smart enough here\u001b[0m\u001b[0;34m\u001b[0m\u001b[0;34m\u001b[0m\u001b[0m\n\u001b[0;32m--> 245\u001b[0;31m         \u001b[0;32mraise\u001b[0m \u001b[0mexception_class\u001b[0m\u001b[0;34m(\u001b[0m\u001b[0mmessage\u001b[0m\u001b[0;34m,\u001b[0m \u001b[0mscreen\u001b[0m\u001b[0;34m,\u001b[0m \u001b[0mstacktrace\u001b[0m\u001b[0;34m)\u001b[0m\u001b[0;34m\u001b[0m\u001b[0;34m\u001b[0m\u001b[0m\n\u001b[0m",
      "\u001b[0;31mNoSuchElementException\u001b[0m: Message: no such element: Unable to locate element: {\"method\":\"css selector\",\"selector\":\"[id=\"focus-mode-button\"]\"}\n  (Session info: chrome=113.0.5672.126)\nStacktrace:\n0   chromedriver                        0x0000000104a3b8ac chromedriver + 4257964\n1   chromedriver                        0x0000000104a33f40 chromedriver + 4226880\n2   chromedriver                        0x00000001046709d4 chromedriver + 281044\n3   chromedriver                        0x00000001046aba34 chromedriver + 522804\n4   chromedriver                        0x00000001046e27e4 chromedriver + 747492\n5   chromedriver                        0x000000010469f98c chromedriver + 473484\n6   chromedriver                        0x00000001046a098c chromedriver + 477580\n7   chromedriver                        0x00000001049fa900 chromedriver + 3991808\n8   chromedriver                        0x00000001049fe354 chromedriver + 4006740\n9   chromedriver                        0x00000001049fe940 chromedriver + 4008256\n10  chromedriver                        0x0000000104a0433c chromedriver + 4031292\n11  chromedriver                        0x00000001049fef34 chromedriver + 4009780\n12  chromedriver                        0x00000001049d7490 chromedriver + 3847312\n13  chromedriver                        0x0000000104a1c9f4 chromedriver + 4131316\n14  chromedriver                        0x0000000104a1cb4c chromedriver + 4131660\n15  chromedriver                        0x0000000104a2d230 chromedriver + 4198960\n16  libsystem_pthread.dylib             0x00000001a8a6606c _pthread_start + 148\n17  libsystem_pthread.dylib             0x00000001a8a60e2c thread_start + 8\n"
     ]
    }
   ],
   "source": [
    "driver.find_element(By.ID, 'focus-mode-button').click()"
   ]
  },
  {
   "cell_type": "code",
   "execution_count": 412,
   "metadata": {},
   "outputs": [],
   "source": [
    "driver.close()"
   ]
  },
  {
   "cell_type": "code",
   "execution_count": null,
   "metadata": {},
   "outputs": [],
   "source": [
    "total_rows = 1332"
   ]
  },
  {
   "cell_type": "code",
   "execution_count": 411,
   "metadata": {},
   "outputs": [
    {
     "ename": "NoSuchFrameException",
     "evalue": "Message: //div[@class='mid-viewport']\n",
     "output_type": "error",
     "traceback": [
      "\u001b[0;31m---------------------------------------------------------------------------\u001b[0m",
      "\u001b[0;31mNoSuchElementException\u001b[0m                    Traceback (most recent call last)",
      "\u001b[0;32m/opt/anaconda3/lib/python3.7/site-packages/selenium/webdriver/remote/switch_to.py\u001b[0m in \u001b[0;36mframe\u001b[0;34m(self, frame_reference)\u001b[0m\n\u001b[1;32m     84\u001b[0m             \u001b[0;32mtry\u001b[0m\u001b[0;34m:\u001b[0m\u001b[0;34m\u001b[0m\u001b[0;34m\u001b[0m\u001b[0m\n\u001b[0;32m---> 85\u001b[0;31m                 \u001b[0mframe_reference\u001b[0m \u001b[0;34m=\u001b[0m \u001b[0mself\u001b[0m\u001b[0;34m.\u001b[0m\u001b[0m_driver\u001b[0m\u001b[0;34m.\u001b[0m\u001b[0mfind_element\u001b[0m\u001b[0;34m(\u001b[0m\u001b[0mBy\u001b[0m\u001b[0;34m.\u001b[0m\u001b[0mID\u001b[0m\u001b[0;34m,\u001b[0m \u001b[0mframe_reference\u001b[0m\u001b[0;34m)\u001b[0m\u001b[0;34m\u001b[0m\u001b[0;34m\u001b[0m\u001b[0m\n\u001b[0m\u001b[1;32m     86\u001b[0m             \u001b[0;32mexcept\u001b[0m \u001b[0mNoSuchElementException\u001b[0m\u001b[0;34m:\u001b[0m\u001b[0;34m\u001b[0m\u001b[0;34m\u001b[0m\u001b[0m\n",
      "\u001b[0;32m/opt/anaconda3/lib/python3.7/site-packages/selenium/webdriver/remote/webdriver.py\u001b[0m in \u001b[0;36mfind_element\u001b[0;34m(self, by, value)\u001b[0m\n\u001b[1;32m    830\u001b[0m \u001b[0;34m\u001b[0m\u001b[0m\n\u001b[0;32m--> 831\u001b[0;31m         \u001b[0;32mreturn\u001b[0m \u001b[0mself\u001b[0m\u001b[0;34m.\u001b[0m\u001b[0mexecute\u001b[0m\u001b[0;34m(\u001b[0m\u001b[0mCommand\u001b[0m\u001b[0;34m.\u001b[0m\u001b[0mFIND_ELEMENT\u001b[0m\u001b[0;34m,\u001b[0m \u001b[0;34m{\u001b[0m\u001b[0;34m\"using\"\u001b[0m\u001b[0;34m:\u001b[0m \u001b[0mby\u001b[0m\u001b[0;34m,\u001b[0m \u001b[0;34m\"value\"\u001b[0m\u001b[0;34m:\u001b[0m \u001b[0mvalue\u001b[0m\u001b[0;34m}\u001b[0m\u001b[0;34m)\u001b[0m\u001b[0;34m[\u001b[0m\u001b[0;34m\"value\"\u001b[0m\u001b[0;34m]\u001b[0m\u001b[0;34m\u001b[0m\u001b[0;34m\u001b[0m\u001b[0m\n\u001b[0m\u001b[1;32m    832\u001b[0m \u001b[0;34m\u001b[0m\u001b[0m\n",
      "\u001b[0;32m/opt/anaconda3/lib/python3.7/site-packages/selenium/webdriver/remote/webdriver.py\u001b[0m in \u001b[0;36mexecute\u001b[0;34m(self, driver_command, params)\u001b[0m\n\u001b[1;32m    439\u001b[0m         \u001b[0;32mif\u001b[0m \u001b[0mresponse\u001b[0m\u001b[0;34m:\u001b[0m\u001b[0;34m\u001b[0m\u001b[0;34m\u001b[0m\u001b[0m\n\u001b[0;32m--> 440\u001b[0;31m             \u001b[0mself\u001b[0m\u001b[0;34m.\u001b[0m\u001b[0merror_handler\u001b[0m\u001b[0;34m.\u001b[0m\u001b[0mcheck_response\u001b[0m\u001b[0;34m(\u001b[0m\u001b[0mresponse\u001b[0m\u001b[0;34m)\u001b[0m\u001b[0;34m\u001b[0m\u001b[0;34m\u001b[0m\u001b[0m\n\u001b[0m\u001b[1;32m    441\u001b[0m             \u001b[0mresponse\u001b[0m\u001b[0;34m[\u001b[0m\u001b[0;34m\"value\"\u001b[0m\u001b[0;34m]\u001b[0m \u001b[0;34m=\u001b[0m \u001b[0mself\u001b[0m\u001b[0;34m.\u001b[0m\u001b[0m_unwrap_value\u001b[0m\u001b[0;34m(\u001b[0m\u001b[0mresponse\u001b[0m\u001b[0;34m.\u001b[0m\u001b[0mget\u001b[0m\u001b[0;34m(\u001b[0m\u001b[0;34m\"value\"\u001b[0m\u001b[0;34m,\u001b[0m \u001b[0;32mNone\u001b[0m\u001b[0;34m)\u001b[0m\u001b[0;34m)\u001b[0m\u001b[0;34m\u001b[0m\u001b[0;34m\u001b[0m\u001b[0m\n",
      "\u001b[0;32m/opt/anaconda3/lib/python3.7/site-packages/selenium/webdriver/remote/errorhandler.py\u001b[0m in \u001b[0;36mcheck_response\u001b[0;34m(self, response)\u001b[0m\n\u001b[1;32m    244\u001b[0m             \u001b[0;32mraise\u001b[0m \u001b[0mexception_class\u001b[0m\u001b[0;34m(\u001b[0m\u001b[0mmessage\u001b[0m\u001b[0;34m,\u001b[0m \u001b[0mscreen\u001b[0m\u001b[0;34m,\u001b[0m \u001b[0mstacktrace\u001b[0m\u001b[0;34m,\u001b[0m \u001b[0malert_text\u001b[0m\u001b[0;34m)\u001b[0m  \u001b[0;31m# type: ignore[call-arg]  # mypy is not smart enough here\u001b[0m\u001b[0;34m\u001b[0m\u001b[0;34m\u001b[0m\u001b[0m\n\u001b[0;32m--> 245\u001b[0;31m         \u001b[0;32mraise\u001b[0m \u001b[0mexception_class\u001b[0m\u001b[0;34m(\u001b[0m\u001b[0mmessage\u001b[0m\u001b[0;34m,\u001b[0m \u001b[0mscreen\u001b[0m\u001b[0;34m,\u001b[0m \u001b[0mstacktrace\u001b[0m\u001b[0;34m)\u001b[0m\u001b[0;34m\u001b[0m\u001b[0;34m\u001b[0m\u001b[0m\n\u001b[0m",
      "\u001b[0;31mNoSuchElementException\u001b[0m: Message: no such element: Unable to locate element: {\"method\":\"css selector\",\"selector\":\"[id=\"//div[@class='mid-viewport']\"]\"}\n  (Session info: chrome=113.0.5672.126)\nStacktrace:\n0   chromedriver                        0x0000000100d7b8ac chromedriver + 4257964\n1   chromedriver                        0x0000000100d73f40 chromedriver + 4226880\n2   chromedriver                        0x00000001009b09d4 chromedriver + 281044\n3   chromedriver                        0x00000001009eba34 chromedriver + 522804\n4   chromedriver                        0x0000000100a227e4 chromedriver + 747492\n5   chromedriver                        0x00000001009df98c chromedriver + 473484\n6   chromedriver                        0x00000001009e098c chromedriver + 477580\n7   chromedriver                        0x0000000100d3a900 chromedriver + 3991808\n8   chromedriver                        0x0000000100d3e354 chromedriver + 4006740\n9   chromedriver                        0x0000000100d3e940 chromedriver + 4008256\n10  chromedriver                        0x0000000100d4433c chromedriver + 4031292\n11  chromedriver                        0x0000000100d3ef34 chromedriver + 4009780\n12  chromedriver                        0x0000000100d17490 chromedriver + 3847312\n13  chromedriver                        0x0000000100d5c9f4 chromedriver + 4131316\n14  chromedriver                        0x0000000100d5cb4c chromedriver + 4131660\n15  chromedriver                        0x0000000100d6d230 chromedriver + 4198960\n16  libsystem_pthread.dylib             0x00000001a8a6606c _pthread_start + 148\n17  libsystem_pthread.dylib             0x00000001a8a60e2c thread_start + 8\n",
      "\nDuring handling of the above exception, another exception occurred:\n",
      "\u001b[0;31mNoSuchElementException\u001b[0m                    Traceback (most recent call last)",
      "\u001b[0;32m/opt/anaconda3/lib/python3.7/site-packages/selenium/webdriver/remote/switch_to.py\u001b[0m in \u001b[0;36mframe\u001b[0;34m(self, frame_reference)\u001b[0m\n\u001b[1;32m     87\u001b[0m                 \u001b[0;32mtry\u001b[0m\u001b[0;34m:\u001b[0m\u001b[0;34m\u001b[0m\u001b[0;34m\u001b[0m\u001b[0m\n\u001b[0;32m---> 88\u001b[0;31m                     \u001b[0mframe_reference\u001b[0m \u001b[0;34m=\u001b[0m \u001b[0mself\u001b[0m\u001b[0;34m.\u001b[0m\u001b[0m_driver\u001b[0m\u001b[0;34m.\u001b[0m\u001b[0mfind_element\u001b[0m\u001b[0;34m(\u001b[0m\u001b[0mBy\u001b[0m\u001b[0;34m.\u001b[0m\u001b[0mNAME\u001b[0m\u001b[0;34m,\u001b[0m \u001b[0mframe_reference\u001b[0m\u001b[0;34m)\u001b[0m\u001b[0;34m\u001b[0m\u001b[0;34m\u001b[0m\u001b[0m\n\u001b[0m\u001b[1;32m     89\u001b[0m                 \u001b[0;32mexcept\u001b[0m \u001b[0mNoSuchElementException\u001b[0m\u001b[0;34m:\u001b[0m\u001b[0;34m\u001b[0m\u001b[0;34m\u001b[0m\u001b[0m\n",
      "\u001b[0;32m/opt/anaconda3/lib/python3.7/site-packages/selenium/webdriver/remote/webdriver.py\u001b[0m in \u001b[0;36mfind_element\u001b[0;34m(self, by, value)\u001b[0m\n\u001b[1;32m    830\u001b[0m \u001b[0;34m\u001b[0m\u001b[0m\n\u001b[0;32m--> 831\u001b[0;31m         \u001b[0;32mreturn\u001b[0m \u001b[0mself\u001b[0m\u001b[0;34m.\u001b[0m\u001b[0mexecute\u001b[0m\u001b[0;34m(\u001b[0m\u001b[0mCommand\u001b[0m\u001b[0;34m.\u001b[0m\u001b[0mFIND_ELEMENT\u001b[0m\u001b[0;34m,\u001b[0m \u001b[0;34m{\u001b[0m\u001b[0;34m\"using\"\u001b[0m\u001b[0;34m:\u001b[0m \u001b[0mby\u001b[0m\u001b[0;34m,\u001b[0m \u001b[0;34m\"value\"\u001b[0m\u001b[0;34m:\u001b[0m \u001b[0mvalue\u001b[0m\u001b[0;34m}\u001b[0m\u001b[0;34m)\u001b[0m\u001b[0;34m[\u001b[0m\u001b[0;34m\"value\"\u001b[0m\u001b[0;34m]\u001b[0m\u001b[0;34m\u001b[0m\u001b[0;34m\u001b[0m\u001b[0m\n\u001b[0m\u001b[1;32m    832\u001b[0m \u001b[0;34m\u001b[0m\u001b[0m\n",
      "\u001b[0;32m/opt/anaconda3/lib/python3.7/site-packages/selenium/webdriver/remote/webdriver.py\u001b[0m in \u001b[0;36mexecute\u001b[0;34m(self, driver_command, params)\u001b[0m\n\u001b[1;32m    439\u001b[0m         \u001b[0;32mif\u001b[0m \u001b[0mresponse\u001b[0m\u001b[0;34m:\u001b[0m\u001b[0;34m\u001b[0m\u001b[0;34m\u001b[0m\u001b[0m\n\u001b[0;32m--> 440\u001b[0;31m             \u001b[0mself\u001b[0m\u001b[0;34m.\u001b[0m\u001b[0merror_handler\u001b[0m\u001b[0;34m.\u001b[0m\u001b[0mcheck_response\u001b[0m\u001b[0;34m(\u001b[0m\u001b[0mresponse\u001b[0m\u001b[0;34m)\u001b[0m\u001b[0;34m\u001b[0m\u001b[0;34m\u001b[0m\u001b[0m\n\u001b[0m\u001b[1;32m    441\u001b[0m             \u001b[0mresponse\u001b[0m\u001b[0;34m[\u001b[0m\u001b[0;34m\"value\"\u001b[0m\u001b[0;34m]\u001b[0m \u001b[0;34m=\u001b[0m \u001b[0mself\u001b[0m\u001b[0;34m.\u001b[0m\u001b[0m_unwrap_value\u001b[0m\u001b[0;34m(\u001b[0m\u001b[0mresponse\u001b[0m\u001b[0;34m.\u001b[0m\u001b[0mget\u001b[0m\u001b[0;34m(\u001b[0m\u001b[0;34m\"value\"\u001b[0m\u001b[0;34m,\u001b[0m \u001b[0;32mNone\u001b[0m\u001b[0;34m)\u001b[0m\u001b[0;34m)\u001b[0m\u001b[0;34m\u001b[0m\u001b[0;34m\u001b[0m\u001b[0m\n",
      "\u001b[0;32m/opt/anaconda3/lib/python3.7/site-packages/selenium/webdriver/remote/errorhandler.py\u001b[0m in \u001b[0;36mcheck_response\u001b[0;34m(self, response)\u001b[0m\n\u001b[1;32m    244\u001b[0m             \u001b[0;32mraise\u001b[0m \u001b[0mexception_class\u001b[0m\u001b[0;34m(\u001b[0m\u001b[0mmessage\u001b[0m\u001b[0;34m,\u001b[0m \u001b[0mscreen\u001b[0m\u001b[0;34m,\u001b[0m \u001b[0mstacktrace\u001b[0m\u001b[0;34m,\u001b[0m \u001b[0malert_text\u001b[0m\u001b[0;34m)\u001b[0m  \u001b[0;31m# type: ignore[call-arg]  # mypy is not smart enough here\u001b[0m\u001b[0;34m\u001b[0m\u001b[0;34m\u001b[0m\u001b[0m\n\u001b[0;32m--> 245\u001b[0;31m         \u001b[0;32mraise\u001b[0m \u001b[0mexception_class\u001b[0m\u001b[0;34m(\u001b[0m\u001b[0mmessage\u001b[0m\u001b[0;34m,\u001b[0m \u001b[0mscreen\u001b[0m\u001b[0;34m,\u001b[0m \u001b[0mstacktrace\u001b[0m\u001b[0;34m)\u001b[0m\u001b[0;34m\u001b[0m\u001b[0;34m\u001b[0m\u001b[0m\n\u001b[0m",
      "\u001b[0;31mNoSuchElementException\u001b[0m: Message: no such element: Unable to locate element: {\"method\":\"css selector\",\"selector\":\"[name=\"//div[@class='mid-viewport']\"]\"}\n  (Session info: chrome=113.0.5672.126)\nStacktrace:\n0   chromedriver                        0x0000000100d7b8ac chromedriver + 4257964\n1   chromedriver                        0x0000000100d73f40 chromedriver + 4226880\n2   chromedriver                        0x00000001009b09d4 chromedriver + 281044\n3   chromedriver                        0x00000001009eba34 chromedriver + 522804\n4   chromedriver                        0x0000000100a227e4 chromedriver + 747492\n5   chromedriver                        0x00000001009df98c chromedriver + 473484\n6   chromedriver                        0x00000001009e098c chromedriver + 477580\n7   chromedriver                        0x0000000100d3a900 chromedriver + 3991808\n8   chromedriver                        0x0000000100d3e354 chromedriver + 4006740\n9   chromedriver                        0x0000000100d3e940 chromedriver + 4008256\n10  chromedriver                        0x0000000100d4433c chromedriver + 4031292\n11  chromedriver                        0x0000000100d3ef34 chromedriver + 4009780\n12  chromedriver                        0x0000000100d17490 chromedriver + 3847312\n13  chromedriver                        0x0000000100d5c9f4 chromedriver + 4131316\n14  chromedriver                        0x0000000100d5cb4c chromedriver + 4131660\n15  chromedriver                        0x0000000100d6d230 chromedriver + 4198960\n16  libsystem_pthread.dylib             0x00000001a8a6606c _pthread_start + 148\n17  libsystem_pthread.dylib             0x00000001a8a60e2c thread_start + 8\n",
      "\nDuring handling of the above exception, another exception occurred:\n",
      "\u001b[0;31mNoSuchFrameException\u001b[0m                      Traceback (most recent call last)",
      "\u001b[0;32m<ipython-input-411-5bbc367d10d0>\u001b[0m in \u001b[0;36m<module>\u001b[0;34m\u001b[0m\n\u001b[0;32m----> 1\u001b[0;31m \u001b[0mdriver\u001b[0m\u001b[0;34m.\u001b[0m\u001b[0mswitch_to\u001b[0m\u001b[0;34m.\u001b[0m\u001b[0mframe\u001b[0m\u001b[0;34m(\u001b[0m\u001b[0;34m\"//div[@class='mid-viewport']\"\u001b[0m\u001b[0;34m)\u001b[0m\u001b[0;34m\u001b[0m\u001b[0;34m\u001b[0m\u001b[0m\n\u001b[0m",
      "\u001b[0;32m/opt/anaconda3/lib/python3.7/site-packages/selenium/webdriver/remote/switch_to.py\u001b[0m in \u001b[0;36mframe\u001b[0;34m(self, frame_reference)\u001b[0m\n\u001b[1;32m     88\u001b[0m                     \u001b[0mframe_reference\u001b[0m \u001b[0;34m=\u001b[0m \u001b[0mself\u001b[0m\u001b[0;34m.\u001b[0m\u001b[0m_driver\u001b[0m\u001b[0;34m.\u001b[0m\u001b[0mfind_element\u001b[0m\u001b[0;34m(\u001b[0m\u001b[0mBy\u001b[0m\u001b[0;34m.\u001b[0m\u001b[0mNAME\u001b[0m\u001b[0;34m,\u001b[0m \u001b[0mframe_reference\u001b[0m\u001b[0;34m)\u001b[0m\u001b[0;34m\u001b[0m\u001b[0;34m\u001b[0m\u001b[0m\n\u001b[1;32m     89\u001b[0m                 \u001b[0;32mexcept\u001b[0m \u001b[0mNoSuchElementException\u001b[0m\u001b[0;34m:\u001b[0m\u001b[0;34m\u001b[0m\u001b[0;34m\u001b[0m\u001b[0m\n\u001b[0;32m---> 90\u001b[0;31m                     \u001b[0;32mraise\u001b[0m \u001b[0mNoSuchFrameException\u001b[0m\u001b[0;34m(\u001b[0m\u001b[0mframe_reference\u001b[0m\u001b[0;34m)\u001b[0m\u001b[0;34m\u001b[0m\u001b[0;34m\u001b[0m\u001b[0m\n\u001b[0m\u001b[1;32m     91\u001b[0m \u001b[0;34m\u001b[0m\u001b[0m\n\u001b[1;32m     92\u001b[0m         \u001b[0mself\u001b[0m\u001b[0;34m.\u001b[0m\u001b[0m_driver\u001b[0m\u001b[0;34m.\u001b[0m\u001b[0mexecute\u001b[0m\u001b[0;34m(\u001b[0m\u001b[0mCommand\u001b[0m\u001b[0;34m.\u001b[0m\u001b[0mSWITCH_TO_FRAME\u001b[0m\u001b[0;34m,\u001b[0m \u001b[0;34m{\u001b[0m\u001b[0;34m\"id\"\u001b[0m\u001b[0;34m:\u001b[0m \u001b[0mframe_reference\u001b[0m\u001b[0;34m}\u001b[0m\u001b[0;34m)\u001b[0m\u001b[0;34m\u001b[0m\u001b[0;34m\u001b[0m\u001b[0m\n",
      "\u001b[0;31mNoSuchFrameException\u001b[0m: Message: //div[@class='mid-viewport']\n"
     ]
    }
   ],
   "source": [
    "driver.switch_to.frame(\"//div[@class='mid-viewport']\")"
   ]
  },
  {
   "cell_type": "code",
   "execution_count": 460,
   "metadata": {},
   "outputs": [],
   "source": [
    "g = driver.find_elements(By.CSS_SELECTOR, \"[aria-label='Focus mode']\")"
   ]
  },
  {
   "cell_type": "code",
   "execution_count": 461,
   "metadata": {},
   "outputs": [
    {
     "data": {
      "text/plain": [
       "0"
      ]
     },
     "execution_count": 461,
     "metadata": {},
     "output_type": "execute_result"
    }
   ],
   "source": [
    "len(g)"
   ]
  },
  {
   "cell_type": "code",
   "execution_count": 476,
   "metadata": {},
   "outputs": [
    {
     "name": "stdout",
     "output_type": "stream",
     "text": [
      "{'height': 9, 'width': 1178}\n",
      "{'height': 10, 'width': 9}\n"
     ]
    }
   ],
   "source": [
    "for i in scroll_button:\n",
    "    print(i.size)"
   ]
  },
  {
   "cell_type": "code",
   "execution_count": 456,
   "metadata": {},
   "outputs": [
    {
     "data": {
      "text/plain": [
       "'Zoom_In'"
      ]
     },
     "execution_count": 456,
     "metadata": {},
     "output_type": "execute_result"
    }
   ],
   "source": [
    "g[5].get_attribute(\"aria-label\")"
   ]
  },
  {
   "cell_type": "code",
   "execution_count": 475,
   "metadata": {},
   "outputs": [
    {
     "data": {
      "text/plain": [
       "<selenium.webdriver.remote.webelement.WebElement (session=\"19f9568cc2a589cb6e66ff6ff27f4294\", element=\"5F256A6FD2CCB7F010AA4CEAECDAD5F4_element_344\")>"
      ]
     },
     "execution_count": 475,
     "metadata": {},
     "output_type": "execute_result"
    }
   ],
   "source": [
    "scroll_button[1]"
   ]
  },
  {
   "cell_type": "code",
   "execution_count": 477,
   "metadata": {},
   "outputs": [],
   "source": [
    "from selenium import webdriver\n",
    "from selenium.common.exceptions import WebDriverException"
   ]
  },
  {
   "cell_type": "code",
   "execution_count": 478,
   "metadata": {},
   "outputs": [],
   "source": [
    "def wheel_element(element, deltaY = 120, offsetX = 0, offsetY = 0):\n",
    "  error = element._parent.execute_script(\"\"\"\n",
    "    var element = arguments[0];\n",
    "    var deltaY = arguments[1];\n",
    "    var box = element.getBoundingClientRect();\n",
    "    var clientX = box.left + (arguments[2] || box.width / 2);\n",
    "    var clientY = box.top + (arguments[3] || box.height / 2);\n",
    "    var target = element.ownerDocument.elementFromPoint(clientX, clientY);\n",
    "\n",
    "    for (var e = target; e; e = e.parentElement) {\n",
    "      if (e === element) {\n",
    "        target.dispatchEvent(new MouseEvent('mouseover', {view: window, bubbles: true, cancelable: true, clientX: clientX, clientY: clientY}));\n",
    "        target.dispatchEvent(new MouseEvent('mousemove', {view: window, bubbles: true, cancelable: true, clientX: clientX, clientY: clientY}));\n",
    "        target.dispatchEvent(new WheelEvent('wheel',     {view: window, bubbles: true, cancelable: true, clientX: clientX, clientY: clientY, deltaY: deltaY}));\n",
    "        return;\n",
    "      }\n",
    "    }    \n",
    "    return \"Element is not interactable\";\n",
    "    \"\"\", element, deltaY, offsetX, offsetY)\n",
    "  if error:\n",
    "    raise WebDriverException(error)"
   ]
  },
  {
   "cell_type": "code",
   "execution_count": 490,
   "metadata": {},
   "outputs": [
    {
     "data": {
      "text/plain": [
       "'K-12 Education\\nConnecticut\\n$164.5 million to facilitate the safe reopening of schools in the Fall and to support the academic success of all students. The funds will support bridging the technology gap, providing quality academic supports for all students, and implementing public health best practices to keep students and staff safe.\\nState'"
      ]
     },
     "execution_count": 490,
     "metadata": {},
     "output_type": "execute_result"
    }
   ],
   "source": [
    "grid_holder[1].text"
   ]
  },
  {
   "cell_type": "code",
   "execution_count": 491,
   "metadata": {},
   "outputs": [],
   "source": [
    "wheel_element(grid_holder[1], 82)"
   ]
  },
  {
   "cell_type": "code",
   "execution_count": 506,
   "metadata": {},
   "outputs": [],
   "source": [
    "grid_holder = driver.find_elements(By.XPATH, \"//div[@role='row']\")"
   ]
  },
  {
   "cell_type": "code",
   "execution_count": 507,
   "metadata": {},
   "outputs": [
    {
     "data": {
      "text/plain": [
       "21"
      ]
     },
     "execution_count": 507,
     "metadata": {},
     "output_type": "execute_result"
    }
   ],
   "source": [
    "len(grid_holder)"
   ]
  },
  {
   "cell_type": "code",
   "execution_count": 505,
   "metadata": {},
   "outputs": [
    {
     "data": {
      "text/plain": [
       "'Technology/Broadband\\nAlabama\\n$50.3 million to a broadband voucher program.\\nState'"
      ]
     },
     "execution_count": 505,
     "metadata": {},
     "output_type": "execute_result"
    }
   ],
   "source": [
    "grid_holder_2[2].text"
   ]
  },
  {
   "cell_type": "code",
   "execution_count": 494,
   "metadata": {},
   "outputs": [
    {
     "data": {
      "text/plain": [
       "list"
      ]
     },
     "execution_count": 494,
     "metadata": {},
     "output_type": "execute_result"
    }
   ],
   "source": [
    "type(grid_holder)"
   ]
  },
  {
   "cell_type": "code",
   "execution_count": 496,
   "metadata": {},
   "outputs": [
    {
     "data": {
      "text/plain": [
       "<selenium.webdriver.remote.webelement.WebElement (session=\"19f9568cc2a589cb6e66ff6ff27f4294\", element=\"5F256A6FD2CCB7F010AA4CEAECDAD5F4_element_382\")>"
      ]
     },
     "execution_count": 496,
     "metadata": {},
     "output_type": "execute_result"
    }
   ],
   "source": [
    "grid_holder[1]"
   ]
  },
  {
   "cell_type": "code",
   "execution_count": 497,
   "metadata": {},
   "outputs": [
    {
     "data": {
      "text/plain": [
       "21"
      ]
     },
     "execution_count": 497,
     "metadata": {},
     "output_type": "execute_result"
    }
   ],
   "source": [
    "len(grid_holder)"
   ]
  },
  {
   "cell_type": "code",
   "execution_count": 498,
   "metadata": {},
   "outputs": [
    {
     "data": {
      "text/plain": [
       "21"
      ]
     },
     "execution_count": 498,
     "metadata": {},
     "output_type": "execute_result"
    }
   ],
   "source": [
    "len(grid_holder_2)"
   ]
  },
  {
   "cell_type": "code",
   "execution_count": 499,
   "metadata": {},
   "outputs": [
    {
     "data": {
      "text/plain": [
       "'Other\\nDelaware\\n$1.6 million for pandemic consulting.\\nState'"
      ]
     },
     "execution_count": 499,
     "metadata": {},
     "output_type": "execute_result"
    }
   ],
   "source": [
    "grid_holder[20].text"
   ]
  },
  {
   "cell_type": "code",
   "execution_count": 500,
   "metadata": {},
   "outputs": [
    {
     "data": {
      "text/plain": [
       "'Other\\nDelaware\\n$1.6 million for pandemic consulting.\\nState'"
      ]
     },
     "execution_count": 500,
     "metadata": {},
     "output_type": "execute_result"
    }
   ],
   "source": [
    "grid_holder_2[20].text"
   ]
  },
  {
   "cell_type": "code",
   "execution_count": null,
   "metadata": {},
   "outputs": [],
   "source": [
    "send_keys(Keys.DOWN)"
   ]
  },
  {
   "cell_type": "code",
   "execution_count": 508,
   "metadata": {},
   "outputs": [],
   "source": [
    "test = driver.find_elements(By.XPATH, \"//div[@role='gridcell']\")"
   ]
  },
  {
   "cell_type": "code",
   "execution_count": 509,
   "metadata": {},
   "outputs": [
    {
     "data": {
      "text/plain": [
       "100"
      ]
     },
     "execution_count": 509,
     "metadata": {},
     "output_type": "execute_result"
    }
   ],
   "source": [
    "len(test)"
   ]
  },
  {
   "cell_type": "code",
   "execution_count": 514,
   "metadata": {},
   "outputs": [
    {
     "data": {
      "text/plain": [
       "'$50 million for colleges and universities.'"
      ]
     },
     "execution_count": 514,
     "metadata": {},
     "output_type": "execute_result"
    }
   ],
   "source": [
    "test[98].text"
   ]
  },
  {
   "cell_type": "code",
   "execution_count": 515,
   "metadata": {},
   "outputs": [
    {
     "data": {
      "text/plain": [
       "<bound method ActionChains.perform of <selenium.webdriver.common.action_chains.ActionChains object at 0x7f8ce0ce58d0>>"
      ]
     },
     "execution_count": 515,
     "metadata": {},
     "output_type": "execute_result"
    }
   ],
   "source": [
    "ActionChains(driver).move_to_element(test[98]).click().send_keys(Keys.DOWN).perform"
   ]
  },
  {
   "cell_type": "code",
   "execution_count": 522,
   "metadata": {},
   "outputs": [
    {
     "data": {
      "text/plain": [
       "'Small Business Relief\\nAlabama\\n$17.5 million to an Agribusiness Stabilization Grant Program\\nState'"
      ]
     },
     "execution_count": 522,
     "metadata": {},
     "output_type": "execute_result"
    }
   ],
   "source": [
    "driver.find_elements(By.XPATH, \"//div[@role='row']\")[1].text"
   ]
  },
  {
   "cell_type": "code",
   "execution_count": 520,
   "metadata": {},
   "outputs": [],
   "source": [
    "test[98].send_keys(Keys.DOWN)"
   ]
  },
  {
   "cell_type": "code",
   "execution_count": 523,
   "metadata": {},
   "outputs": [],
   "source": [
    "results = []"
   ]
  },
  {
   "cell_type": "code",
   "execution_count": 524,
   "metadata": {},
   "outputs": [
    {
     "data": {
      "text/plain": [
       "list"
      ]
     },
     "execution_count": 524,
     "metadata": {},
     "output_type": "execute_result"
    }
   ],
   "source": [
    "type(results)"
   ]
  },
  {
   "cell_type": "code",
   "execution_count": 543,
   "metadata": {},
   "outputs": [],
   "source": [
    "test_1 = [1,2]\n",
    "test_2 = [3,4]"
   ]
  },
  {
   "cell_type": "code",
   "execution_count": 544,
   "metadata": {},
   "outputs": [],
   "source": [
    "test_3 = test_1 + test_2"
   ]
  },
  {
   "cell_type": "code",
   "execution_count": 545,
   "metadata": {},
   "outputs": [
    {
     "data": {
      "text/plain": [
       "[1, 2, 3, 4]"
      ]
     },
     "execution_count": 545,
     "metadata": {},
     "output_type": "execute_result"
    }
   ],
   "source": [
    "test_3"
   ]
  },
  {
   "cell_type": "code",
   "execution_count": 546,
   "metadata": {},
   "outputs": [
    {
     "data": {
      "text/plain": [
       "'$50 million for colleges and universities.'"
      ]
     },
     "execution_count": 546,
     "metadata": {},
     "output_type": "execute_result"
    }
   ],
   "source": [
    "test[-2].text"
   ]
  },
  {
   "cell_type": "code",
   "execution_count": 603,
   "metadata": {},
   "outputs": [],
   "source": [
    "results_text = np.empty(0, dtype=str)"
   ]
  },
  {
   "cell_type": "code",
   "execution_count": 607,
   "metadata": {},
   "outputs": [],
   "source": [
    "results_text = np.append(results_text, test_x)"
   ]
  },
  {
   "cell_type": "code",
   "execution_count": 609,
   "metadata": {},
   "outputs": [],
   "source": [
    "results_text[1] = results_text[1].text"
   ]
  },
  {
   "cell_type": "code",
   "execution_count": 610,
   "metadata": {},
   "outputs": [
    {
     "data": {
      "text/plain": [
       "'Unemployment/Workforce Development\\nAlabama\\n$385 million to the unemployment trust fund transfer program.\\nState'"
      ]
     },
     "execution_count": 610,
     "metadata": {},
     "output_type": "execute_result"
    }
   ],
   "source": [
    "results_text[1]"
   ]
  },
  {
   "cell_type": "code",
   "execution_count": null,
   "metadata": {},
   "outputs": [],
   "source": [
    "def get_grid(driver): \n",
    "    grids = driver.find_elements(By.XPATH, \"//div[@role='grid']\")\n",
    "    return grids"
   ]
  }
 ],
 "metadata": {
  "kernelspec": {
   "display_name": "Python 3",
   "language": "python",
   "name": "python3"
  },
  "language_info": {
   "codemirror_mode": {
    "name": "ipython",
    "version": 3
   },
   "file_extension": ".py",
   "mimetype": "text/x-python",
   "name": "python",
   "nbconvert_exporter": "python",
   "pygments_lexer": "ipython3",
   "version": "3.7.4"
  }
 },
 "nbformat": 4,
 "nbformat_minor": 2
}
